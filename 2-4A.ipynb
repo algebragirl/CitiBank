{
 "cells": [
  {
   "cell_type": "markdown",
   "id": "f57f4205-55e2-4177-8303-fcaa640e8d49",
   "metadata": {},
   "source": [
    "# E4 - Seaborn"
   ]
  },
  {
   "cell_type": "markdown",
   "id": "984e03a5-5106-4c93-b0b0-5055d1f34f46",
   "metadata": {},
   "source": [
    "### What are the most popular stations in the city? \n",
    "### What are the busiest months and is there a weather component at play?\n",
    "### What are the most popular trips between stations? \n",
    "### Are the existing stations evenly distributed?\n"
   ]
  },
  {
   "cell_type": "markdown",
   "id": "721ba1f3-e47e-4e35-8aed-eaa634dd2df0",
   "metadata": {},
   "source": [
    "The first question - “What are the most popular stations in the city?” - has an easy answer - we simply need a list of the 10 or 20 most popular start stations in the city. As this variable is a categorical one, a **bar chart** would suit our purposes best. A bar chart is one of the most common forms of visualizations because it’s very straightforward to interpret from anyone regardless of their background. \n",
    "\n",
    "Onto the second question - regarding when the most trips are taken and how this is connected to weather - we’d need a yearly overview of the trips month by month. Time series are best plotted on a **line chart**, hence we could plot the sum of the bike trips for each month as one line and combine it with the average temperature monthly as a second line on the plot. This will also show us whether there’s a relationship between temperature and bike usage. This is important because right now, the business strategy development isn’t clear whether the demand problem is a seasonal one or not. \n"
   ]
  },
  {
   "cell_type": "markdown",
   "id": "6e82f140-a3df-4fbd-96a4-3db9e0c41f2c",
   "metadata": {},
   "source": [
    "Bar Chart\n",
    "    Find top 20 starting stations' frequencies\n",
    "Line Chart\n",
    "     Recreate dual axis line plot\n",
    "          Create 2 dataframes and merge them\n",
    "              AvgTemp-vs-Date :df_no_dups\n",
    "              Ride_ID (bike_trips_count)-vs-Date :df_group\n",
    "          Merge the 2 dataframes\n",
    "               Ensure that both dataframes have same date format\n"
   ]
  },
  {
   "cell_type": "code",
   "execution_count": 1,
   "id": "97ed3bf4-00b4-4cef-bdf5-0fb79b7d1ad6",
   "metadata": {},
   "outputs": [],
   "source": [
    "import pandas as pd\n",
    "from matplotlib import pyplot as plt\n",
    "import numpy as np\n",
    "from datetime import datetime as dt\n",
    "import seaborn as sns"
   ]
  },
  {
   "cell_type": "code",
   "execution_count": 2,
   "id": "c778d338-a6ae-4c65-b473-e424cd2a1779",
   "metadata": {},
   "outputs": [
    {
     "name": "stderr",
     "output_type": "stream",
     "text": [
      "C:\\Users\\Barb\\AppData\\Local\\Temp\\ipykernel_4364\\1702794093.py:3: DtypeWarning: Columns (6,8) have mixed types. Specify dtype option on import or set low_memory=False.\n",
      "  df = pd.read_csv('NY_data_sample.csv', index_col = 0)\n"
     ]
    }
   ],
   "source": [
    "#import data\n",
    "\n",
    "df = pd.read_csv('NY_data_sample.csv', index_col = 0)"
   ]
  },
  {
   "cell_type": "code",
   "execution_count": 3,
   "id": "fee3902e-461b-487c-aae0-37d27e25f53c",
   "metadata": {},
   "outputs": [
    {
     "data": {
      "text/plain": [
       "ride_id                object\n",
       "rideable_type          object\n",
       "started_at             object\n",
       "ended_at               object\n",
       "start_station_name     object\n",
       "start_station_id       object\n",
       "end_station_name       object\n",
       "end_station_id         object\n",
       "start_lat             float64\n",
       "start_lng             float64\n",
       "end_lat               float64\n",
       "end_lng               float64\n",
       "member_casual          object\n",
       "date                   object\n",
       "avgTemp               float64\n",
       "_merge                 object\n",
       "dtype: object"
      ]
     },
     "execution_count": 3,
     "metadata": {},
     "output_type": "execute_result"
    }
   ],
   "source": [
    "df.dtypes"
   ]
  },
  {
   "cell_type": "markdown",
   "id": "3d7556d9-4a45-4eb4-8423-c078a358581c",
   "metadata": {},
   "source": [
    "## Bar chart"
   ]
  },
  {
   "cell_type": "markdown",
   "id": "f85c32fa-16bd-48bd-b090-3c82f2b36074",
   "metadata": {},
   "source": [
    "#### Find top 20 starting stations frequencies"
   ]
  },
  {
   "cell_type": "code",
   "execution_count": 63,
   "id": "11e941a4-e721-4a1b-bfbb-ad4443f78a3a",
   "metadata": {},
   "outputs": [],
   "source": [
    "df['value'] = 1\n",
    "df_t = df.groupby('start_station_name')['value'].count().reset_index()"
   ]
  },
  {
   "cell_type": "code",
   "execution_count": 64,
   "id": "7341ee77-9244-4eb4-ac09-81998d9ee6a3",
   "metadata": {},
   "outputs": [
    {
     "data": {
      "text/html": [
       "<div>\n",
       "<style scoped>\n",
       "    .dataframe tbody tr th:only-of-type {\n",
       "        vertical-align: middle;\n",
       "    }\n",
       "\n",
       "    .dataframe tbody tr th {\n",
       "        vertical-align: top;\n",
       "    }\n",
       "\n",
       "    .dataframe thead th {\n",
       "        text-align: right;\n",
       "    }\n",
       "</style>\n",
       "<table border=\"1\" class=\"dataframe\">\n",
       "  <thead>\n",
       "    <tr style=\"text-align: right;\">\n",
       "      <th></th>\n",
       "      <th>start_station_name</th>\n",
       "      <th>value</th>\n",
       "    </tr>\n",
       "  </thead>\n",
       "  <tbody>\n",
       "    <tr>\n",
       "      <th>1586</th>\n",
       "      <td>W 21 St &amp; 6 Ave</td>\n",
       "      <td>25930</td>\n",
       "    </tr>\n",
       "    <tr>\n",
       "      <th>1716</th>\n",
       "      <td>West St &amp; Chambers St</td>\n",
       "      <td>24670</td>\n",
       "    </tr>\n",
       "    <tr>\n",
       "      <th>495</th>\n",
       "      <td>Broadway &amp; W 58 St</td>\n",
       "      <td>22755</td>\n",
       "    </tr>\n",
       "    <tr>\n",
       "      <th>286</th>\n",
       "      <td>6 Ave &amp; W 33 St</td>\n",
       "      <td>21208</td>\n",
       "    </tr>\n",
       "    <tr>\n",
       "      <th>8</th>\n",
       "      <td>1 Ave &amp; E 68 St</td>\n",
       "      <td>20828</td>\n",
       "    </tr>\n",
       "    <tr>\n",
       "      <th>485</th>\n",
       "      <td>Broadway &amp; W 25 St</td>\n",
       "      <td>19971</td>\n",
       "    </tr>\n",
       "    <tr>\n",
       "      <th>461</th>\n",
       "      <td>Broadway &amp; E 14 St</td>\n",
       "      <td>19752</td>\n",
       "    </tr>\n",
       "    <tr>\n",
       "      <th>1510</th>\n",
       "      <td>University Pl &amp; E 14 St</td>\n",
       "      <td>19593</td>\n",
       "    </tr>\n",
       "    <tr>\n",
       "      <th>463</th>\n",
       "      <td>Broadway &amp; E 21 St</td>\n",
       "      <td>19161</td>\n",
       "    </tr>\n",
       "    <tr>\n",
       "      <th>1602</th>\n",
       "      <td>W 31 St &amp; 7 Ave</td>\n",
       "      <td>18751</td>\n",
       "    </tr>\n",
       "    <tr>\n",
       "      <th>29</th>\n",
       "      <td>12 Ave &amp; W 40 St</td>\n",
       "      <td>18182</td>\n",
       "    </tr>\n",
       "    <tr>\n",
       "      <th>788</th>\n",
       "      <td>E 33 St &amp; 1 Ave</td>\n",
       "      <td>18043</td>\n",
       "    </tr>\n",
       "    <tr>\n",
       "      <th>590</th>\n",
       "      <td>Cleveland Pl &amp; Spring St</td>\n",
       "      <td>18042</td>\n",
       "    </tr>\n",
       "    <tr>\n",
       "      <th>287</th>\n",
       "      <td>6 Ave &amp; W 34 St</td>\n",
       "      <td>17910</td>\n",
       "    </tr>\n",
       "    <tr>\n",
       "      <th>24</th>\n",
       "      <td>11 Ave &amp; W 41 St</td>\n",
       "      <td>17497</td>\n",
       "    </tr>\n",
       "    <tr>\n",
       "      <th>1105</th>\n",
       "      <td>Lafayette St &amp; E 8 St</td>\n",
       "      <td>17430</td>\n",
       "    </tr>\n",
       "    <tr>\n",
       "      <th>1717</th>\n",
       "      <td>West St &amp; Liberty St</td>\n",
       "      <td>17401</td>\n",
       "    </tr>\n",
       "    <tr>\n",
       "      <th>562</th>\n",
       "      <td>Central Park S &amp; 6 Ave</td>\n",
       "      <td>17364</td>\n",
       "    </tr>\n",
       "    <tr>\n",
       "      <th>796</th>\n",
       "      <td>E 40 St &amp; Park Ave</td>\n",
       "      <td>17261</td>\n",
       "    </tr>\n",
       "    <tr>\n",
       "      <th>328</th>\n",
       "      <td>8 Ave &amp; W 33 St</td>\n",
       "      <td>16946</td>\n",
       "    </tr>\n",
       "  </tbody>\n",
       "</table>\n",
       "</div>"
      ],
      "text/plain": [
       "            start_station_name  value\n",
       "1586           W 21 St & 6 Ave  25930\n",
       "1716     West St & Chambers St  24670\n",
       "495         Broadway & W 58 St  22755\n",
       "286            6 Ave & W 33 St  21208\n",
       "8              1 Ave & E 68 St  20828\n",
       "485         Broadway & W 25 St  19971\n",
       "461         Broadway & E 14 St  19752\n",
       "1510   University Pl & E 14 St  19593\n",
       "463         Broadway & E 21 St  19161\n",
       "1602           W 31 St & 7 Ave  18751\n",
       "29            12 Ave & W 40 St  18182\n",
       "788            E 33 St & 1 Ave  18043\n",
       "590   Cleveland Pl & Spring St  18042\n",
       "287            6 Ave & W 34 St  17910\n",
       "24            11 Ave & W 41 St  17497\n",
       "1105     Lafayette St & E 8 St  17430\n",
       "1717      West St & Liberty St  17401\n",
       "562     Central Park S & 6 Ave  17364\n",
       "796         E 40 St & Park Ave  17261\n",
       "328            8 Ave & W 33 St  16946"
      ]
     },
     "execution_count": 64,
     "metadata": {},
     "output_type": "execute_result"
    }
   ],
   "source": [
    "top20 = df_t.nlargest(20, 'value')\n",
    "top20"
   ]
  },
  {
   "cell_type": "markdown",
   "id": "888cecc8-cb61-415c-beaa-c3ac879d2ff6",
   "metadata": {},
   "source": [
    "#### Set theme"
   ]
  },
  {
   "cell_type": "code",
   "execution_count": 65,
   "id": "1e97d63d-190d-4a67-b852-288b41ffa15d",
   "metadata": {},
   "outputs": [],
   "source": [
    "sns.set_theme(style = \"whitegrid\", palette = \"Purples_r\")"
   ]
  },
  {
   "cell_type": "code",
   "execution_count": 66,
   "id": "7514ea7c-a602-4e32-9228-819c3718b51e",
   "metadata": {},
   "outputs": [
    {
     "data": {
      "image/png": "[encoded data removed]",
      "text/plain": [
       "<Figure size 640x480 with 1 Axes>"
      ]
     },
     "metadata": {},
     "output_type": "display_data"
    }
   ],
   "source": [
    "sns.barplot(data = top20, x = 'value', y = 'start_station_name')\n",
    "plt.title(\"Most frequent start stations\")\n",
    "plt.show()"
   ]
  },
  {
   "cell_type": "markdown",
   "id": "1c040189-38ce-489b-9ecd-0f7416f98e87",
   "metadata": {},
   "source": [
    "#### The above plot does not show any color variations.\n",
    "#### Recreate plot with new palette colors"
   ]
  },
  {
   "cell_type": "code",
   "execution_count": 67,
   "id": "7b720ad3-235c-4540-9b57-f123861aeadd",
   "metadata": {},
   "outputs": [
    {
     "name": "stderr",
     "output_type": "stream",
     "text": [
      "C:\\Users\\Barb\\AppData\\Local\\Temp\\ipykernel_4364\\2839758038.py:1: FutureWarning: \n",
      "\n",
      "Passing `palette` without assigning `hue` is deprecated and will be removed in v0.14.0. Assign the `y` variable to `hue` and set `legend=False` for the same effect.\n",
      "\n",
      "  sns.barplot(data = top20, x = 'value', y = 'start_station_name', palette=(\"Blues_r\"))\n"
     ]
    },
    {
     "data": {
      "image/png": "[encoded data removed]",
      "text/plain": [
       "<Figure size 640x480 with 1 Axes>"
      ]
     },
     "metadata": {},
     "output_type": "display_data"
    }
   ],
   "source": [
    "sns.barplot(data = top20, x = 'value', y = 'start_station_name', palette=(\"Blues_r\"))\n",
    "plt.title(\"Most frequent start stations\")\n",
    "plt.show()"
   ]
  },
  {
   "cell_type": "markdown",
   "id": "d92e7376-c8dd-4af0-b6e1-049682907492",
   "metadata": {
    "tags": []
   },
   "source": [
    "## Line plot\n",
    "#### Recreate dual-axis line plot: (AvgTemp-vs-Date) & (Bike_Trip_Counts-vs-Date)"
   ]
  },
  {
   "cell_type": "markdown",
   "id": "64c33662-203f-4b9e-b746-ebc494241d01",
   "metadata": {},
   "source": [
    "#### Create Table of avgTemp-vs-date:  df_no_dups (final df name)"
   ]
  },
  {
   "cell_type": "markdown",
   "id": "c5418791-ae22-409c-aab1-3f471b8e572f",
   "metadata": {},
   "source": [
    "##### Slim down the df_no_dups dataframe by (1) dropping unnecessary columns and (2) Dropping duplicates"
   ]
  },
  {
   "cell_type": "markdown",
   "id": "359722cb-e6c1-4c88-9166-edcb2d211b65",
   "metadata": {
    "jp-MarkdownHeadingCollapsed": true
   },
   "source": [
    "      ##### (1) Drop unnecessary columns - only keep date and avgTemp columns"
   ]
  },
  {
   "cell_type": "code",
   "execution_count": 78,
   "id": "a8f8280a-bc78-4cd5-86e9-e7611f0f1e7f",
   "metadata": {},
   "outputs": [],
   "source": [
    "df_drop_col = df.drop(columns = ['value', '_merge', 'ride_id', 'rideable_type', 'started_at', 'ended_at', 'start_station_name', 'start_station_id', 'end_station_name', 'end_station_id', 'start_lat', 'start_lng', 'end_lat', 'end_lng', 'member_casual'])"
   ]
  },
  {
   "cell_type": "code",
   "execution_count": 79,
   "id": "63a36118-20ea-402e-9445-0f1bdc232926",
   "metadata": {},
   "outputs": [
    {
     "data": {
      "text/html": [
       "<div>\n",
       "<style scoped>\n",
       "    .dataframe tbody tr th:only-of-type {\n",
       "        vertical-align: middle;\n",
       "    }\n",
       "\n",
       "    .dataframe tbody tr th {\n",
       "        vertical-align: top;\n",
       "    }\n",
       "\n",
       "    .dataframe thead th {\n",
       "        text-align: right;\n",
       "    }\n",
       "</style>\n",
       "<table border=\"1\" class=\"dataframe\">\n",
       "  <thead>\n",
       "    <tr style=\"text-align: right;\">\n",
       "      <th></th>\n",
       "      <th>date</th>\n",
       "      <th>avgTemp</th>\n",
       "    </tr>\n",
       "  </thead>\n",
       "  <tbody>\n",
       "    <tr>\n",
       "      <th>25092672</th>\n",
       "      <td>2022-10-20</td>\n",
       "      <td>11.1</td>\n",
       "    </tr>\n",
       "    <tr>\n",
       "      <th>850261</th>\n",
       "      <td>2022-01-19</td>\n",
       "      <td>3.2</td>\n",
       "    </tr>\n",
       "    <tr>\n",
       "      <th>25461273</th>\n",
       "      <td>2022-10-31</td>\n",
       "      <td>14.4</td>\n",
       "    </tr>\n",
       "    <tr>\n",
       "      <th>8836007</th>\n",
       "      <td>2022-05-02</td>\n",
       "      <td>12.1</td>\n",
       "    </tr>\n",
       "    <tr>\n",
       "      <th>20383470</th>\n",
       "      <td>2022-09-20</td>\n",
       "      <td>23.2</td>\n",
       "    </tr>\n",
       "  </tbody>\n",
       "</table>\n",
       "</div>"
      ],
      "text/plain": [
       "                date  avgTemp\n",
       "25092672  2022-10-20     11.1\n",
       "850261    2022-01-19      3.2\n",
       "25461273  2022-10-31     14.4\n",
       "8836007   2022-05-02     12.1\n",
       "20383470  2022-09-20     23.2"
      ]
     },
     "execution_count": 79,
     "metadata": {},
     "output_type": "execute_result"
    }
   ],
   "source": [
    "df_drop_col.head()"
   ]
  },
  {
   "cell_type": "markdown",
   "id": "ead1b320-f4eb-424c-9e80-e61423454392",
   "metadata": {},
   "source": [
    "     ##### (2) Remove duplicate rows"
   ]
  },
  {
   "cell_type": "code",
   "execution_count": 80,
   "id": "8788b2cb-bb05-4afb-9ac4-65aaa322f855",
   "metadata": {},
   "outputs": [],
   "source": [
    "# find duplicate rows for df containing only date and avgTemp\n",
    "                 #1st - Find the total # of rows of df_drop_col"
   ]
  },
  {
   "cell_type": "code",
   "execution_count": 81,
   "id": "f2380835-8e98-4758-870d-6f58bb1ba89c",
   "metadata": {},
   "outputs": [
    {
     "data": {
      "text/plain": [
       "(5967761, 2)"
      ]
     },
     "execution_count": 81,
     "metadata": {},
     "output_type": "execute_result"
    }
   ],
   "source": [
    "df_drop_col.shape"
   ]
  },
  {
   "cell_type": "code",
   "execution_count": 82,
   "id": "8cde18c6-fa9c-4036-8c70-4caf4cfa438a",
   "metadata": {},
   "outputs": [],
   "source": [
    "                 #2nd - find the number of duplicate rows"
   ]
  },
  {
   "cell_type": "code",
   "execution_count": 83,
   "id": "2869858e-d52a-4f71-920c-cf9e4c10a7cf",
   "metadata": {},
   "outputs": [],
   "source": [
    "df_dups = df_drop_col[df_drop_col.duplicated()]"
   ]
  },
  {
   "cell_type": "code",
   "execution_count": 84,
   "id": "52e99dca-980d-4f41-a67a-433d711a73f3",
   "metadata": {},
   "outputs": [
    {
     "data": {
      "text/plain": [
       "(5967385, 2)"
      ]
     },
     "execution_count": 84,
     "metadata": {},
     "output_type": "execute_result"
    }
   ],
   "source": [
    "df_dups.shape"
   ]
  },
  {
   "cell_type": "code",
   "execution_count": 85,
   "id": "9be8d519-4b40-4a6a-a0e2-d2100b197d3f",
   "metadata": {},
   "outputs": [],
   "source": [
    "                  #3rd - create df_no_dups which comtains no duplicates"
   ]
  },
  {
   "cell_type": "code",
   "execution_count": 86,
   "id": "abfd431e-11a9-4974-8ee3-38da51a182e9",
   "metadata": {},
   "outputs": [],
   "source": [
    "df_no_dups = df_drop_col.drop_duplicates()"
   ]
  },
  {
   "cell_type": "code",
   "execution_count": 77,
   "id": "00b63b00-1a8b-490c-ab67-d7570cc226c5",
   "metadata": {},
   "outputs": [
    {
     "data": {
      "text/plain": [
       "(5293817, 4)"
      ]
     },
     "execution_count": 77,
     "metadata": {},
     "output_type": "execute_result"
    }
   ],
   "source": [
    "df_no_dups.shape"
   ]
  },
  {
   "cell_type": "code",
   "execution_count": 19,
   "id": "7328f7ad-d7a4-4694-b0ca-256858027c09",
   "metadata": {},
   "outputs": [
    {
     "data": {
      "text/html": [
       "<div>\n",
       "<style scoped>\n",
       "    .dataframe tbody tr th:only-of-type {\n",
       "        vertical-align: middle;\n",
       "    }\n",
       "\n",
       "    .dataframe tbody tr th {\n",
       "        vertical-align: top;\n",
       "    }\n",
       "\n",
       "    .dataframe thead th {\n",
       "        text-align: right;\n",
       "    }\n",
       "</style>\n",
       "<table border=\"1\" class=\"dataframe\">\n",
       "  <thead>\n",
       "    <tr style=\"text-align: right;\">\n",
       "      <th></th>\n",
       "      <th>date</th>\n",
       "      <th>avgTemp</th>\n",
       "    </tr>\n",
       "  </thead>\n",
       "  <tbody>\n",
       "    <tr>\n",
       "      <th>25092672</th>\n",
       "      <td>2022-10-20</td>\n",
       "      <td>11.1</td>\n",
       "    </tr>\n",
       "    <tr>\n",
       "      <th>850261</th>\n",
       "      <td>2022-01-19</td>\n",
       "      <td>3.2</td>\n",
       "    </tr>\n",
       "    <tr>\n",
       "      <th>25461273</th>\n",
       "      <td>2022-10-31</td>\n",
       "      <td>14.4</td>\n",
       "    </tr>\n",
       "    <tr>\n",
       "      <th>8836007</th>\n",
       "      <td>2022-05-02</td>\n",
       "      <td>12.1</td>\n",
       "    </tr>\n",
       "    <tr>\n",
       "      <th>20383470</th>\n",
       "      <td>2022-09-20</td>\n",
       "      <td>23.2</td>\n",
       "    </tr>\n",
       "  </tbody>\n",
       "</table>\n",
       "</div>"
      ],
      "text/plain": [
       "                date  avgTemp\n",
       "25092672  2022-10-20     11.1\n",
       "850261    2022-01-19      3.2\n",
       "25461273  2022-10-31     14.4\n",
       "8836007   2022-05-02     12.1\n",
       "20383470  2022-09-20     23.2"
      ]
     },
     "execution_count": 19,
     "metadata": {},
     "output_type": "execute_result"
    }
   ],
   "source": [
    "df_no_dups.head(5)"
   ]
  },
  {
   "cell_type": "code",
   "execution_count": 20,
   "id": "774f8ade-fbb8-4c81-ab13-39472e1f03ea",
   "metadata": {},
   "outputs": [],
   "source": [
    "# Save avgTemp-vs-Date (df_no_dups)/ 376 rows\n",
    "# df (1) has no index set, (2) only columns' date and avgTemp, and (3) duplicates removed\n",
    "\n",
    "# df_no_dups.to_csv('avgTemp-Date.csv')"
   ]
  },
  {
   "cell_type": "markdown",
   "id": "277fafe0-327d-4b48-b00f-7daabfff70f0",
   "metadata": {},
   "source": [
    "       ##### (3) ID missing values"
   ]
  },
  {
   "cell_type": "code",
   "execution_count": 21,
   "id": "3b1ebbb5-d4bc-4925-b0cb-3dddb99b2144",
   "metadata": {},
   "outputs": [
    {
     "data": {
      "text/plain": [
       "11"
      ]
     },
     "execution_count": 21,
     "metadata": {},
     "output_type": "execute_result"
    }
   ],
   "source": [
    "                 #Find # of missing avgTemp values\n",
    "\n",
    "df_no_dups['avgTemp'].isnull().sum()"
   ]
  },
  {
   "cell_type": "code",
   "execution_count": 22,
   "id": "03cab1c7-ef0f-4c8e-9770-f2193d9e425e",
   "metadata": {},
   "outputs": [
    {
     "data": {
      "text/html": [
       "<div>\n",
       "<style scoped>\n",
       "    .dataframe tbody tr th:only-of-type {\n",
       "        vertical-align: middle;\n",
       "    }\n",
       "\n",
       "    .dataframe tbody tr th {\n",
       "        vertical-align: top;\n",
       "    }\n",
       "\n",
       "    .dataframe thead th {\n",
       "        text-align: right;\n",
       "    }\n",
       "</style>\n",
       "<table border=\"1\" class=\"dataframe\">\n",
       "  <thead>\n",
       "    <tr style=\"text-align: right;\">\n",
       "      <th></th>\n",
       "      <th>date</th>\n",
       "      <th>avgTemp</th>\n",
       "    </tr>\n",
       "  </thead>\n",
       "  <tbody>\n",
       "    <tr>\n",
       "      <th>825981</th>\n",
       "      <td>2021-12-31</td>\n",
       "      <td>NaN</td>\n",
       "    </tr>\n",
       "    <tr>\n",
       "      <th>134850</th>\n",
       "      <td>2021-12-29</td>\n",
       "      <td>NaN</td>\n",
       "    </tr>\n",
       "    <tr>\n",
       "      <th>243440</th>\n",
       "      <td>2021-11-16</td>\n",
       "      <td>NaN</td>\n",
       "    </tr>\n",
       "    <tr>\n",
       "      <th>1099488</th>\n",
       "      <td>2021-12-19</td>\n",
       "      <td>NaN</td>\n",
       "    </tr>\n",
       "    <tr>\n",
       "      <th>2278343</th>\n",
       "      <td>2021-04-30</td>\n",
       "      <td>NaN</td>\n",
       "    </tr>\n",
       "    <tr>\n",
       "      <th>834170</th>\n",
       "      <td>2021-12-30</td>\n",
       "      <td>NaN</td>\n",
       "    </tr>\n",
       "    <tr>\n",
       "      <th>1887411</th>\n",
       "      <td>2021-12-08</td>\n",
       "      <td>NaN</td>\n",
       "    </tr>\n",
       "    <tr>\n",
       "      <th>2167335</th>\n",
       "      <td>2021-03-14</td>\n",
       "      <td>NaN</td>\n",
       "    </tr>\n",
       "    <tr>\n",
       "      <th>546228</th>\n",
       "      <td>2021-12-26</td>\n",
       "      <td>NaN</td>\n",
       "    </tr>\n",
       "    <tr>\n",
       "      <th>10829245</th>\n",
       "      <td>2021-03-11</td>\n",
       "      <td>NaN</td>\n",
       "    </tr>\n",
       "    <tr>\n",
       "      <th>1895593</th>\n",
       "      <td>2021-08-16</td>\n",
       "      <td>NaN</td>\n",
       "    </tr>\n",
       "  </tbody>\n",
       "</table>\n",
       "</div>"
      ],
      "text/plain": [
       "                date  avgTemp\n",
       "825981    2021-12-31      NaN\n",
       "134850    2021-12-29      NaN\n",
       "243440    2021-11-16      NaN\n",
       "1099488   2021-12-19      NaN\n",
       "2278343   2021-04-30      NaN\n",
       "834170    2021-12-30      NaN\n",
       "1887411   2021-12-08      NaN\n",
       "2167335   2021-03-14      NaN\n",
       "546228    2021-12-26      NaN\n",
       "10829245  2021-03-11      NaN\n",
       "1895593   2021-08-16      NaN"
      ]
     },
     "execution_count": 22,
     "metadata": {},
     "output_type": "execute_result"
    }
   ],
   "source": [
    "                  #create subset of df_datesort that contains only missing values\n",
    "\n",
    "df_nan = df_no_dups[df_no_dups['avgTemp'].isnull() == True]\n",
    "df_nan"
   ]
  },
  {
   "cell_type": "code",
   "execution_count": 23,
   "id": "23f02c0d-078b-4bda-abc1-24b6b42a3ae3",
   "metadata": {},
   "outputs": [],
   "source": [
    "                #What should I do with missing values? Ignore, impute or remove\n",
    "                     # I choose to REMOVE\n",
    "                     # Before REMOVING, perform the merge first and look at data"
   ]
  },
  {
   "cell_type": "markdown",
   "id": "eb6ef724-07df-4c8d-8aff-e790c105c974",
   "metadata": {},
   "source": [
    "####  Create table of bike_trips_per_day-vs-Date"
   ]
  },
  {
   "cell_type": "markdown",
   "id": "cd9f5770-0f0d-4194-a595-0e12c360231e",
   "metadata": {},
   "source": [
    "    ##### Aggregate Bike Trips"
   ]
  },
  {
   "cell_type": "code",
   "execution_count": 24,
   "id": "2d55bb52-e361-41c7-8d11-60e3fdfaa67e",
   "metadata": {},
   "outputs": [],
   "source": [
    "# Groupby the count of the trips \n",
    "\n",
    "df_group = pd.DataFrame(df.groupby(['date'])['ride_id'].count()).reset_index()"
   ]
  },
  {
   "cell_type": "code",
   "execution_count": 25,
   "id": "6f17e12a-72d8-4854-874d-b08a09105ff8",
   "metadata": {},
   "outputs": [
    {
     "data": {
      "text/html": [
       "<div>\n",
       "<style scoped>\n",
       "    .dataframe tbody tr th:only-of-type {\n",
       "        vertical-align: middle;\n",
       "    }\n",
       "\n",
       "    .dataframe tbody tr th {\n",
       "        vertical-align: top;\n",
       "    }\n",
       "\n",
       "    .dataframe thead th {\n",
       "        text-align: right;\n",
       "    }\n",
       "</style>\n",
       "<table border=\"1\" class=\"dataframe\">\n",
       "  <thead>\n",
       "    <tr style=\"text-align: right;\">\n",
       "      <th></th>\n",
       "      <th>date</th>\n",
       "      <th>ride_id</th>\n",
       "    </tr>\n",
       "  </thead>\n",
       "  <tbody>\n",
       "    <tr>\n",
       "      <th>0</th>\n",
       "      <td>2021-03-11</td>\n",
       "      <td>1</td>\n",
       "    </tr>\n",
       "    <tr>\n",
       "      <th>1</th>\n",
       "      <td>2021-03-14</td>\n",
       "      <td>1</td>\n",
       "    </tr>\n",
       "    <tr>\n",
       "      <th>2</th>\n",
       "      <td>2021-04-30</td>\n",
       "      <td>1</td>\n",
       "    </tr>\n",
       "    <tr>\n",
       "      <th>3</th>\n",
       "      <td>2021-08-16</td>\n",
       "      <td>1</td>\n",
       "    </tr>\n",
       "    <tr>\n",
       "      <th>4</th>\n",
       "      <td>2021-11-16</td>\n",
       "      <td>1</td>\n",
       "    </tr>\n",
       "  </tbody>\n",
       "</table>\n",
       "</div>"
      ],
      "text/plain": [
       "         date  ride_id\n",
       "0  2021-03-11        1\n",
       "1  2021-03-14        1\n",
       "2  2021-04-30        1\n",
       "3  2021-08-16        1\n",
       "4  2021-11-16        1"
      ]
     },
     "execution_count": 25,
     "metadata": {},
     "output_type": "execute_result"
    }
   ],
   "source": [
    "df_group.head()"
   ]
  },
  {
   "cell_type": "code",
   "execution_count": 26,
   "id": "a25d5153-a769-4600-bca2-b87cb642793d",
   "metadata": {},
   "outputs": [],
   "source": [
    "df_group.rename(columns = {'ride_id':'bike_rides_daily'}, inplace = True)"
   ]
  },
  {
   "cell_type": "code",
   "execution_count": 27,
   "id": "27138ea9-acf5-4e46-a651-3b96cd8ca01d",
   "metadata": {},
   "outputs": [
    {
     "data": {
      "text/html": [
       "<div>\n",
       "<style scoped>\n",
       "    .dataframe tbody tr th:only-of-type {\n",
       "        vertical-align: middle;\n",
       "    }\n",
       "\n",
       "    .dataframe tbody tr th {\n",
       "        vertical-align: top;\n",
       "    }\n",
       "\n",
       "    .dataframe thead th {\n",
       "        text-align: right;\n",
       "    }\n",
       "</style>\n",
       "<table border=\"1\" class=\"dataframe\">\n",
       "  <thead>\n",
       "    <tr style=\"text-align: right;\">\n",
       "      <th></th>\n",
       "      <th>date</th>\n",
       "      <th>bike_rides_daily</th>\n",
       "    </tr>\n",
       "  </thead>\n",
       "  <tbody>\n",
       "    <tr>\n",
       "      <th>0</th>\n",
       "      <td>2021-03-11</td>\n",
       "      <td>1</td>\n",
       "    </tr>\n",
       "    <tr>\n",
       "      <th>1</th>\n",
       "      <td>2021-03-14</td>\n",
       "      <td>1</td>\n",
       "    </tr>\n",
       "    <tr>\n",
       "      <th>2</th>\n",
       "      <td>2021-04-30</td>\n",
       "      <td>1</td>\n",
       "    </tr>\n",
       "    <tr>\n",
       "      <th>3</th>\n",
       "      <td>2021-08-16</td>\n",
       "      <td>1</td>\n",
       "    </tr>\n",
       "    <tr>\n",
       "      <th>4</th>\n",
       "      <td>2021-11-16</td>\n",
       "      <td>1</td>\n",
       "    </tr>\n",
       "  </tbody>\n",
       "</table>\n",
       "</div>"
      ],
      "text/plain": [
       "         date  bike_rides_daily\n",
       "0  2021-03-11                 1\n",
       "1  2021-03-14                 1\n",
       "2  2021-04-30                 1\n",
       "3  2021-08-16                 1\n",
       "4  2021-11-16                 1"
      ]
     },
     "execution_count": 27,
     "metadata": {},
     "output_type": "execute_result"
    }
   ],
   "source": [
    "df_group.head()"
   ]
  },
  {
   "cell_type": "code",
   "execution_count": 28,
   "id": "d5f7ee83-ccaf-436c-b53d-498181abfdab",
   "metadata": {},
   "outputs": [
    {
     "data": {
      "text/plain": [
       "(376, 2)"
      ]
     },
     "execution_count": 28,
     "metadata": {},
     "output_type": "execute_result"
    }
   ],
   "source": [
    "df_group.shape"
   ]
  },
  {
   "cell_type": "code",
   "execution_count": 29,
   "id": "0f27cf1c-3276-467c-9f89-2cf0ab7ae43e",
   "metadata": {},
   "outputs": [
    {
     "data": {
      "text/plain": [
       "date                object\n",
       "bike_rides_daily     int64\n",
       "dtype: object"
      ]
     },
     "execution_count": 29,
     "metadata": {},
     "output_type": "execute_result"
    }
   ],
   "source": [
    "df_group.dtypes"
   ]
  },
  {
   "cell_type": "code",
   "execution_count": 30,
   "id": "165cc9fa-7601-44e8-8534-1b18b3898adc",
   "metadata": {},
   "outputs": [],
   "source": [
    "# Save bike_rides_daily-vs-Date (df_group)/ 376 rows\n",
    "# df has (1) no index set, (2) only columns' date and bike_rides_daily, and (3) bike rides grouped by day\n",
    "\n",
    "\n",
    "# df_group.to_csv('bike_rides_daily-Date.csv')"
   ]
  },
  {
   "cell_type": "code",
   "execution_count": 31,
   "id": "1acc491b-dc57-4dbd-8759-e9ebb9ec6dc3",
   "metadata": {},
   "outputs": [
    {
     "data": {
      "text/plain": [
       "date                0\n",
       "bike_rides_daily    0\n",
       "dtype: int64"
      ]
     },
     "execution_count": 31,
     "metadata": {},
     "output_type": "execute_result"
    }
   ],
   "source": [
    "#Find missing ride_id values\n",
    "\n",
    "df_group.isnull().sum()"
   ]
  },
  {
   "cell_type": "code",
   "execution_count": null,
   "id": "b807ec4c-04e4-4923-b96f-415c4c55737b",
   "metadata": {},
   "outputs": [],
   "source": []
  },
  {
   "cell_type": "markdown",
   "id": "02a57f22-bcf4-458e-b1b2-afedc4d0c616",
   "metadata": {},
   "source": [
    "#### Merge trip aggregations (df_group) and temperatures (df_no_dups)\n",
    "##### Make sure datatypes match for date"
   ]
  },
  {
   "cell_type": "code",
   "execution_count": 32,
   "id": "f0ca0828-65ab-4d2a-a780-5830a6e58405",
   "metadata": {},
   "outputs": [
    {
     "data": {
      "text/plain": [
       "date        object\n",
       "avgTemp    float64\n",
       "dtype: object"
      ]
     },
     "execution_count": 32,
     "metadata": {},
     "output_type": "execute_result"
    }
   ],
   "source": [
    "df_no_dups.dtypes"
   ]
  },
  {
   "cell_type": "code",
   "execution_count": 33,
   "id": "a6874235-1955-4322-b8d4-f0fdfc6b0264",
   "metadata": {},
   "outputs": [],
   "source": [
    "      #Before merging, I need to change the datatype of the date column in df_group to match that of df_no_dups\n"
   ]
  },
  {
   "cell_type": "code",
   "execution_count": 34,
   "id": "42700f0d-d36a-4e0f-a1e8-8bec0f38ab5f",
   "metadata": {},
   "outputs": [
    {
     "name": "stderr",
     "output_type": "stream",
     "text": [
      "C:\\Users\\Barb\\AppData\\Local\\Temp\\ipykernel_4364\\445259861.py:2: SettingWithCopyWarning: \n",
      "A value is trying to be set on a copy of a slice from a DataFrame.\n",
      "Try using .loc[row_indexer,col_indexer] = value instead\n",
      "\n",
      "See the caveats in the documentation: https://pandas.pydata.org/pandas-docs/stable/user_guide/indexing.html#returning-a-view-versus-a-copy\n",
      "  df_no_dups['date'] = pd.to_datetime(df_no_dups['date'], format = '%Y-%m-%d')\n"
     ]
    }
   ],
   "source": [
    "df_group['date'] = pd.to_datetime(df_group['date'], format = '%Y-%m-%d')\n",
    "df_no_dups['date'] = pd.to_datetime(df_no_dups['date'], format = '%Y-%m-%d')"
   ]
  },
  {
   "cell_type": "code",
   "execution_count": 35,
   "id": "981bacd6-8aac-4cb3-af74-2eb2d72ec5e0",
   "metadata": {},
   "outputs": [
    {
     "data": {
      "text/plain": [
       "date                datetime64[ns]\n",
       "bike_rides_daily             int64\n",
       "dtype: object"
      ]
     },
     "execution_count": 35,
     "metadata": {},
     "output_type": "execute_result"
    }
   ],
   "source": [
    "df_group.dtypes"
   ]
  },
  {
   "cell_type": "code",
   "execution_count": 36,
   "id": "0b996ad6-eb84-4b02-96dc-b81b4504ba00",
   "metadata": {},
   "outputs": [
    {
     "data": {
      "text/plain": [
       "date       datetime64[ns]\n",
       "avgTemp           float64\n",
       "dtype: object"
      ]
     },
     "execution_count": 36,
     "metadata": {},
     "output_type": "execute_result"
    }
   ],
   "source": [
    "df_no_dups.dtypes"
   ]
  },
  {
   "cell_type": "markdown",
   "id": "58baa026-4215-46cc-8885-4e32b0bf930e",
   "metadata": {},
   "source": [
    "#### MERGE\n",
    "##### Then (1) Set date as index and (2) Sort by date"
   ]
  },
  {
   "cell_type": "code",
   "execution_count": 37,
   "id": "5516ae23-70a3-4316-9be2-c09420f73bb5",
   "metadata": {},
   "outputs": [],
   "source": [
    "df2 = df_no_dups.merge(df_group, on = 'date', how = 'outer')                      #Both df_no_dups & df_group have 376 values "
   ]
  },
  {
   "cell_type": "code",
   "execution_count": 38,
   "id": "55acca0d-618c-4566-8bc0-c72dc94434f6",
   "metadata": {},
   "outputs": [],
   "source": [
    "df_temp = df2.set_index('date')"
   ]
  },
  {
   "cell_type": "code",
   "execution_count": 39,
   "id": "325eabcb-9a6b-41d6-8886-13bc31c660c9",
   "metadata": {},
   "outputs": [],
   "source": [
    "df_datesort = df_temp.sort_values(by = 'date')"
   ]
  },
  {
   "cell_type": "code",
   "execution_count": 40,
   "id": "f992a514-6a24-4356-8a85-8f227ab453b8",
   "metadata": {},
   "outputs": [
    {
     "data": {
      "text/html": [
       "<div>\n",
       "<style scoped>\n",
       "    .dataframe tbody tr th:only-of-type {\n",
       "        vertical-align: middle;\n",
       "    }\n",
       "\n",
       "    .dataframe tbody tr th {\n",
       "        vertical-align: top;\n",
       "    }\n",
       "\n",
       "    .dataframe thead th {\n",
       "        text-align: right;\n",
       "    }\n",
       "</style>\n",
       "<table border=\"1\" class=\"dataframe\">\n",
       "  <thead>\n",
       "    <tr style=\"text-align: right;\">\n",
       "      <th></th>\n",
       "      <th>avgTemp</th>\n",
       "      <th>bike_rides_daily</th>\n",
       "    </tr>\n",
       "    <tr>\n",
       "      <th>date</th>\n",
       "      <th></th>\n",
       "      <th></th>\n",
       "    </tr>\n",
       "  </thead>\n",
       "  <tbody>\n",
       "    <tr>\n",
       "      <th>2021-03-11</th>\n",
       "      <td>NaN</td>\n",
       "      <td>1</td>\n",
       "    </tr>\n",
       "    <tr>\n",
       "      <th>2021-03-14</th>\n",
       "      <td>NaN</td>\n",
       "      <td>1</td>\n",
       "    </tr>\n",
       "    <tr>\n",
       "      <th>2021-04-30</th>\n",
       "      <td>NaN</td>\n",
       "      <td>1</td>\n",
       "    </tr>\n",
       "    <tr>\n",
       "      <th>2021-08-16</th>\n",
       "      <td>NaN</td>\n",
       "      <td>1</td>\n",
       "    </tr>\n",
       "    <tr>\n",
       "      <th>2021-11-16</th>\n",
       "      <td>NaN</td>\n",
       "      <td>1</td>\n",
       "    </tr>\n",
       "    <tr>\n",
       "      <th>2021-12-08</th>\n",
       "      <td>NaN</td>\n",
       "      <td>1</td>\n",
       "    </tr>\n",
       "    <tr>\n",
       "      <th>2021-12-19</th>\n",
       "      <td>NaN</td>\n",
       "      <td>1</td>\n",
       "    </tr>\n",
       "    <tr>\n",
       "      <th>2021-12-26</th>\n",
       "      <td>NaN</td>\n",
       "      <td>1</td>\n",
       "    </tr>\n",
       "    <tr>\n",
       "      <th>2021-12-29</th>\n",
       "      <td>NaN</td>\n",
       "      <td>1</td>\n",
       "    </tr>\n",
       "    <tr>\n",
       "      <th>2021-12-30</th>\n",
       "      <td>NaN</td>\n",
       "      <td>2</td>\n",
       "    </tr>\n",
       "  </tbody>\n",
       "</table>\n",
       "</div>"
      ],
      "text/plain": [
       "            avgTemp  bike_rides_daily\n",
       "date                                 \n",
       "2021-03-11      NaN                 1\n",
       "2021-03-14      NaN                 1\n",
       "2021-04-30      NaN                 1\n",
       "2021-08-16      NaN                 1\n",
       "2021-11-16      NaN                 1\n",
       "2021-12-08      NaN                 1\n",
       "2021-12-19      NaN                 1\n",
       "2021-12-26      NaN                 1\n",
       "2021-12-29      NaN                 1\n",
       "2021-12-30      NaN                 2"
      ]
     },
     "execution_count": 40,
     "metadata": {},
     "output_type": "execute_result"
    }
   ],
   "source": [
    "df_datesort.head(10)"
   ]
  },
  {
   "cell_type": "markdown",
   "id": "85bc8832-3c24-4f80-be67-84b3363c822d",
   "metadata": {},
   "source": [
    "     ##### REMOVE rows with missing temperatures because they are in the year 2021\n",
    "     ##### Create new df w/o missing temps"
   ]
  },
  {
   "cell_type": "code",
   "execution_count": 41,
   "id": "eff689f8-cead-4566-afb0-d2d0d80a5e52",
   "metadata": {},
   "outputs": [
    {
     "data": {
      "text/plain": [
       "(365, 2)"
      ]
     },
     "execution_count": 41,
     "metadata": {},
     "output_type": "execute_result"
    }
   ],
   "source": [
    "df_temp_clean = df_datesort[df_datesort['avgTemp'].isnull() == False]\n",
    "df_temp_clean.shape"
   ]
  },
  {
   "cell_type": "code",
   "execution_count": 42,
   "id": "4356c27d-dc33-4e7c-ab20-e5c100614ae5",
   "metadata": {},
   "outputs": [
    {
     "data": {
      "text/html": [
       "<div>\n",
       "<style scoped>\n",
       "    .dataframe tbody tr th:only-of-type {\n",
       "        vertical-align: middle;\n",
       "    }\n",
       "\n",
       "    .dataframe tbody tr th {\n",
       "        vertical-align: top;\n",
       "    }\n",
       "\n",
       "    .dataframe thead th {\n",
       "        text-align: right;\n",
       "    }\n",
       "</style>\n",
       "<table border=\"1\" class=\"dataframe\">\n",
       "  <thead>\n",
       "    <tr style=\"text-align: right;\">\n",
       "      <th></th>\n",
       "      <th>avgTemp</th>\n",
       "      <th>bike_rides_daily</th>\n",
       "    </tr>\n",
       "    <tr>\n",
       "      <th>date</th>\n",
       "      <th></th>\n",
       "      <th></th>\n",
       "    </tr>\n",
       "  </thead>\n",
       "  <tbody>\n",
       "    <tr>\n",
       "      <th>2022-01-01</th>\n",
       "      <td>11.6</td>\n",
       "      <td>4028</td>\n",
       "    </tr>\n",
       "    <tr>\n",
       "      <th>2022-01-02</th>\n",
       "      <td>11.4</td>\n",
       "      <td>8571</td>\n",
       "    </tr>\n",
       "    <tr>\n",
       "      <th>2022-01-03</th>\n",
       "      <td>1.4</td>\n",
       "      <td>6617</td>\n",
       "    </tr>\n",
       "    <tr>\n",
       "      <th>2022-01-04</th>\n",
       "      <td>-2.7</td>\n",
       "      <td>7487</td>\n",
       "    </tr>\n",
       "    <tr>\n",
       "      <th>2022-01-05</th>\n",
       "      <td>3.2</td>\n",
       "      <td>6752</td>\n",
       "    </tr>\n",
       "  </tbody>\n",
       "</table>\n",
       "</div>"
      ],
      "text/plain": [
       "            avgTemp  bike_rides_daily\n",
       "date                                 \n",
       "2022-01-01     11.6              4028\n",
       "2022-01-02     11.4              8571\n",
       "2022-01-03      1.4              6617\n",
       "2022-01-04     -2.7              7487\n",
       "2022-01-05      3.2              6752"
      ]
     },
     "execution_count": 42,
     "metadata": {},
     "output_type": "execute_result"
    }
   ],
   "source": [
    "df_temp_clean.head()"
   ]
  },
  {
   "cell_type": "code",
   "execution_count": null,
   "id": "0def32f5-4a62-4ed8-9e44-23f01cd3f887",
   "metadata": {},
   "outputs": [],
   "source": []
  },
  {
   "cell_type": "code",
   "execution_count": 87,
   "id": "ed4b9e5e-6b92-4e85-97b9-c8f7a9700f44",
   "metadata": {},
   "outputs": [],
   "source": [
    "df_temp_clean.reset_index(level=0, inplace=True)"
   ]
  },
  {
   "cell_type": "code",
   "execution_count": 89,
   "id": "e58f94bc-7816-47cd-b81e-91082550ae9a",
   "metadata": {},
   "outputs": [],
   "source": [
    "df_dual_axis = df_temp_clean"
   ]
  },
  {
   "cell_type": "code",
   "execution_count": 90,
   "id": "ffd5de17-beff-472d-9b04-185f8ed9b32e",
   "metadata": {},
   "outputs": [
    {
     "data": {
      "text/html": [
       "<div>\n",
       "<style scoped>\n",
       "    .dataframe tbody tr th:only-of-type {\n",
       "        vertical-align: middle;\n",
       "    }\n",
       "\n",
       "    .dataframe tbody tr th {\n",
       "        vertical-align: top;\n",
       "    }\n",
       "\n",
       "    .dataframe thead th {\n",
       "        text-align: right;\n",
       "    }\n",
       "</style>\n",
       "<table border=\"1\" class=\"dataframe\">\n",
       "  <thead>\n",
       "    <tr style=\"text-align: right;\">\n",
       "      <th></th>\n",
       "      <th>date</th>\n",
       "      <th>avgTemp</th>\n",
       "      <th>bike_rides_daily</th>\n",
       "    </tr>\n",
       "  </thead>\n",
       "  <tbody>\n",
       "    <tr>\n",
       "      <th>0</th>\n",
       "      <td>2022-01-01</td>\n",
       "      <td>11.6</td>\n",
       "      <td>4028</td>\n",
       "    </tr>\n",
       "    <tr>\n",
       "      <th>1</th>\n",
       "      <td>2022-01-02</td>\n",
       "      <td>11.4</td>\n",
       "      <td>8571</td>\n",
       "    </tr>\n",
       "    <tr>\n",
       "      <th>2</th>\n",
       "      <td>2022-01-03</td>\n",
       "      <td>1.4</td>\n",
       "      <td>6617</td>\n",
       "    </tr>\n",
       "    <tr>\n",
       "      <th>3</th>\n",
       "      <td>2022-01-04</td>\n",
       "      <td>-2.7</td>\n",
       "      <td>7487</td>\n",
       "    </tr>\n",
       "    <tr>\n",
       "      <th>4</th>\n",
       "      <td>2022-01-05</td>\n",
       "      <td>3.2</td>\n",
       "      <td>6752</td>\n",
       "    </tr>\n",
       "    <tr>\n",
       "      <th>...</th>\n",
       "      <td>...</td>\n",
       "      <td>...</td>\n",
       "      <td>...</td>\n",
       "    </tr>\n",
       "    <tr>\n",
       "      <th>360</th>\n",
       "      <td>2022-12-27</td>\n",
       "      <td>-0.7</td>\n",
       "      <td>6584</td>\n",
       "    </tr>\n",
       "    <tr>\n",
       "      <th>361</th>\n",
       "      <td>2022-12-28</td>\n",
       "      <td>3.4</td>\n",
       "      <td>8872</td>\n",
       "    </tr>\n",
       "    <tr>\n",
       "      <th>362</th>\n",
       "      <td>2022-12-29</td>\n",
       "      <td>6.4</td>\n",
       "      <td>10252</td>\n",
       "    </tr>\n",
       "    <tr>\n",
       "      <th>363</th>\n",
       "      <td>2022-12-30</td>\n",
       "      <td>9.3</td>\n",
       "      <td>12512</td>\n",
       "    </tr>\n",
       "    <tr>\n",
       "      <th>364</th>\n",
       "      <td>2022-12-31</td>\n",
       "      <td>8.2</td>\n",
       "      <td>6123</td>\n",
       "    </tr>\n",
       "  </tbody>\n",
       "</table>\n",
       "<p>365 rows × 3 columns</p>\n",
       "</div>"
      ],
      "text/plain": [
       "          date  avgTemp  bike_rides_daily\n",
       "0   2022-01-01     11.6              4028\n",
       "1   2022-01-02     11.4              8571\n",
       "2   2022-01-03      1.4              6617\n",
       "3   2022-01-04     -2.7              7487\n",
       "4   2022-01-05      3.2              6752\n",
       "..         ...      ...               ...\n",
       "360 2022-12-27     -0.7              6584\n",
       "361 2022-12-28      3.4              8872\n",
       "362 2022-12-29      6.4             10252\n",
       "363 2022-12-30      9.3             12512\n",
       "364 2022-12-31      8.2              6123\n",
       "\n",
       "[365 rows x 3 columns]"
      ]
     },
     "execution_count": 90,
     "metadata": {},
     "output_type": "execute_result"
    }
   ],
   "source": [
    "df_dual_axis"
   ]
  },
  {
   "cell_type": "code",
   "execution_count": null,
   "id": "7ae75b0a-c9aa-414f-8561-b0b682abb1cc",
   "metadata": {},
   "outputs": [],
   "source": []
  },
  {
   "cell_type": "code",
   "execution_count": 91,
   "id": "cbc4ebc9-629f-469f-aa0b-79e6546fa7f9",
   "metadata": {},
   "outputs": [],
   "source": [
    "df_dual_axis.to_csv('dual_axis.csv')"
   ]
  },
  {
   "cell_type": "code",
   "execution_count": null,
   "id": "1d38bef7-ec69-4faf-91aa-acd387a08bf9",
   "metadata": {},
   "outputs": [],
   "source": []
  },
  {
   "cell_type": "code",
   "execution_count": 43,
   "id": "a6583fe0-b5a4-413b-a243-c2abee67e7df",
   "metadata": {},
   "outputs": [],
   "source": [
    "#print(\"Shape of January 1st is\", df_temp_clean[df_temp_clean['date'] == '2022-01-01'].shape) # Check \n",
    "#print(\"Shape of January 2nd is\", df_temp_clean[df_temp_clean['date'] == '2022-01-02'].shape) # Second check "
   ]
  },
  {
   "cell_type": "code",
   "execution_count": 44,
   "id": "a0bbfae7-e031-455f-b676-4693121b4c2c",
   "metadata": {
    "scrolled": true
   },
   "outputs": [
    {
     "data": {
      "image/png": "[encoded data removed]",
      "text/plain": [
       "<Figure size 1000x500 with 2 Axes>"
      ]
     },
     "metadata": {},
     "output_type": "display_data"
    }
   ],
   "source": [
    "# Create figure and axis objects with subplots()\n",
    "\n",
    "fig,ax = plt.subplots(figsize=(10, 5))\n",
    "\n",
    "# Make a plot of the bike rides\n",
    "ax.plot(df_temp_clean['bike_rides_daily'],color = \"navy\")\n",
    "\n",
    "sns.lineplot(data = df_temp_clean['bike_rides_daily'], color = \"b\")\n",
    "ax.set_xlabel(\"Year 2022\", fontsize = 14) # set x-axis label\n",
    "ax.set_ylabel(\"Bike rides daily\",color = \"navy\", fontsize = 14) # set y-axis label\n",
    "\n",
    "# Here is where we create the dual axis - initialize a twin object for two different y-axis on the sample plot\n",
    "ax2 = ax.twinx()\n",
    "\n",
    "# Make a plot with the temperatues on the y-axis using second axis object\n",
    "sns.lineplot(data = df_temp_clean['avgTemp'], color=\"r\", ax=ax2)\n",
    "ax2.set_ylabel(\"Average temperatures\", color = \"red\",fontsize=14)\n",
    "plt.title('Temperature and trips in 2022', fontsize = 18)\n",
    "plt.show()"
   ]
  },
  {
   "cell_type": "markdown",
   "id": "e6ca562a-7edb-4a9a-92a2-6376d2f1a585",
   "metadata": {
    "tags": []
   },
   "source": [
    "### Box plots"
   ]
  },
  {
   "cell_type": "code",
   "execution_count": 45,
   "id": "e5558285-a2e9-427f-9928-3da2f7f2902d",
   "metadata": {},
   "outputs": [
    {
     "data": {
      "text/plain": [
       "ride_id                object\n",
       "rideable_type          object\n",
       "started_at             object\n",
       "ended_at               object\n",
       "start_station_name     object\n",
       "start_station_id       object\n",
       "end_station_name       object\n",
       "end_station_id         object\n",
       "start_lat             float64\n",
       "start_lng             float64\n",
       "end_lat               float64\n",
       "end_lng               float64\n",
       "member_casual          object\n",
       "date                   object\n",
       "avgTemp               float64\n",
       "_merge                 object\n",
       "value                   int64\n",
       "dtype: object"
      ]
     },
     "execution_count": 45,
     "metadata": {},
     "output_type": "execute_result"
    }
   ],
   "source": [
    "df.dtypes"
   ]
  },
  {
   "cell_type": "code",
   "execution_count": 46,
   "id": "3749ce22-abdb-4742-8689-6c19454bbfcf",
   "metadata": {},
   "outputs": [
    {
     "data": {
      "text/plain": [
       "25092672    member\n",
       "850261      member\n",
       "25461273    casual\n",
       "8836007     member\n",
       "20383470    member\n",
       "             ...  \n",
       "2981383     member\n",
       "12914510    member\n",
       "1810052     member\n",
       "13538892    member\n",
       "1534846     member\n",
       "Name: member_casual, Length: 5967761, dtype: object"
      ]
     },
     "execution_count": 46,
     "metadata": {},
     "output_type": "execute_result"
    }
   ],
   "source": [
    "df['member_casual']"
   ]
  },
  {
   "cell_type": "code",
   "execution_count": 47,
   "id": "84413890-cf20-4d1d-a1d9-92895d7325ac",
   "metadata": {},
   "outputs": [
    {
     "data": {
      "text/plain": [
       "Index(['ride_id', 'rideable_type', 'started_at', 'ended_at',\n",
       "       'start_station_name', 'start_station_id', 'end_station_name',\n",
       "       'end_station_id', 'start_lat', 'start_lng', 'end_lat', 'end_lng',\n",
       "       'member_casual', 'date', 'avgTemp', '_merge', 'value'],\n",
       "      dtype='object')"
      ]
     },
     "execution_count": 47,
     "metadata": {},
     "output_type": "execute_result"
    }
   ],
   "source": [
    "df.columns"
   ]
  },
  {
   "cell_type": "markdown",
   "id": "7aa54e3a-e517-4e67-8f0c-0c6a194013af",
   "metadata": {},
   "source": [
    "#### Slim down dataframe by dropping unnecessary columns\n",
    "#### Drop duplicates? - NA"
   ]
  },
  {
   "cell_type": "code",
   "execution_count": 48,
   "id": "59d580f3-9654-4d5b-9a01-b1d67b3df191",
   "metadata": {},
   "outputs": [],
   "source": [
    "#drop unnecessary columns\n",
    "\n",
    "df_drop_col = df.drop(columns = ['ride_id', 'rideable_type', 'started_at', 'ended_at', 'start_station_name', 'start_station_id', 'end_station_name', 'end_station_id', 'start_lat', 'start_lng', 'end_lat', 'end_lng', 'date', '_merge', 'value'])"
   ]
  },
  {
   "cell_type": "code",
   "execution_count": 49,
   "id": "48948249-8a75-4d07-bbf4-29519b7f0128",
   "metadata": {},
   "outputs": [
    {
     "data": {
      "text/html": [
       "<div>\n",
       "<style scoped>\n",
       "    .dataframe tbody tr th:only-of-type {\n",
       "        vertical-align: middle;\n",
       "    }\n",
       "\n",
       "    .dataframe tbody tr th {\n",
       "        vertical-align: top;\n",
       "    }\n",
       "\n",
       "    .dataframe thead th {\n",
       "        text-align: right;\n",
       "    }\n",
       "</style>\n",
       "<table border=\"1\" class=\"dataframe\">\n",
       "  <thead>\n",
       "    <tr style=\"text-align: right;\">\n",
       "      <th></th>\n",
       "      <th>member_casual</th>\n",
       "      <th>avgTemp</th>\n",
       "    </tr>\n",
       "  </thead>\n",
       "  <tbody>\n",
       "    <tr>\n",
       "      <th>25092672</th>\n",
       "      <td>member</td>\n",
       "      <td>11.1</td>\n",
       "    </tr>\n",
       "    <tr>\n",
       "      <th>850261</th>\n",
       "      <td>member</td>\n",
       "      <td>3.2</td>\n",
       "    </tr>\n",
       "    <tr>\n",
       "      <th>25461273</th>\n",
       "      <td>casual</td>\n",
       "      <td>14.4</td>\n",
       "    </tr>\n",
       "    <tr>\n",
       "      <th>8836007</th>\n",
       "      <td>member</td>\n",
       "      <td>12.1</td>\n",
       "    </tr>\n",
       "    <tr>\n",
       "      <th>20383470</th>\n",
       "      <td>member</td>\n",
       "      <td>23.2</td>\n",
       "    </tr>\n",
       "  </tbody>\n",
       "</table>\n",
       "</div>"
      ],
      "text/plain": [
       "         member_casual  avgTemp\n",
       "25092672        member     11.1\n",
       "850261          member      3.2\n",
       "25461273        casual     14.4\n",
       "8836007         member     12.1\n",
       "20383470        member     23.2"
      ]
     },
     "execution_count": 49,
     "metadata": {},
     "output_type": "execute_result"
    }
   ],
   "source": [
    "df_drop_col.head()\n"
   ]
  },
  {
   "cell_type": "code",
   "execution_count": 50,
   "id": "71eeb612-dde6-4e77-8fee-fdbb9a8a1c34",
   "metadata": {},
   "outputs": [
    {
     "data": {
      "text/plain": [
       "(5967761, 2)"
      ]
     },
     "execution_count": 50,
     "metadata": {},
     "output_type": "execute_result"
    }
   ],
   "source": [
    "df_drop_col.shape\n"
   ]
  },
  {
   "cell_type": "markdown",
   "id": "87261942-6230-4c3b-b560-0e65d111c356",
   "metadata": {
    "jp-MarkdownHeadingCollapsed": true
   },
   "source": [
    "#### Don't need date column to be index of dataframe in copy"
   ]
  },
  {
   "cell_type": "markdown",
   "id": "333dc64e-4236-44b0-b746-14ecc908b935",
   "metadata": {},
   "source": [
    "#### Check for missing values - (1) Sort avgTemp in order; (2) Find # of missing values & create subset of missing values"
   ]
  },
  {
   "cell_type": "code",
   "execution_count": 51,
   "id": "9f2c7630-23b7-485e-b1dc-410dfd996179",
   "metadata": {},
   "outputs": [],
   "source": [
    "           # 1) Sort avgTemp values"
   ]
  },
  {
   "cell_type": "code",
   "execution_count": 52,
   "id": "234124c1-75c7-4b3e-acaf-a460441a930f",
   "metadata": {},
   "outputs": [],
   "source": [
    "df_datesort = df_drop_col.sort_values(by = 'avgTemp')"
   ]
  },
  {
   "cell_type": "code",
   "execution_count": 53,
   "id": "551e0a68-0473-4cf6-ad08-f1cff3d51486",
   "metadata": {},
   "outputs": [
    {
     "data": {
      "text/html": [
       "<div>\n",
       "<style scoped>\n",
       "    .dataframe tbody tr th:only-of-type {\n",
       "        vertical-align: middle;\n",
       "    }\n",
       "\n",
       "    .dataframe tbody tr th {\n",
       "        vertical-align: top;\n",
       "    }\n",
       "\n",
       "    .dataframe thead th {\n",
       "        text-align: right;\n",
       "    }\n",
       "</style>\n",
       "<table border=\"1\" class=\"dataframe\">\n",
       "  <thead>\n",
       "    <tr style=\"text-align: right;\">\n",
       "      <th></th>\n",
       "      <th>member_casual</th>\n",
       "      <th>avgTemp</th>\n",
       "    </tr>\n",
       "  </thead>\n",
       "  <tbody>\n",
       "    <tr>\n",
       "      <th>28767020</th>\n",
       "      <td>member</td>\n",
       "      <td>-11.7</td>\n",
       "    </tr>\n",
       "    <tr>\n",
       "      <th>29409804</th>\n",
       "      <td>member</td>\n",
       "      <td>-11.7</td>\n",
       "    </tr>\n",
       "    <tr>\n",
       "      <th>28336697</th>\n",
       "      <td>member</td>\n",
       "      <td>-11.7</td>\n",
       "    </tr>\n",
       "    <tr>\n",
       "      <th>28947307</th>\n",
       "      <td>member</td>\n",
       "      <td>-11.7</td>\n",
       "    </tr>\n",
       "    <tr>\n",
       "      <th>28257958</th>\n",
       "      <td>member</td>\n",
       "      <td>-11.7</td>\n",
       "    </tr>\n",
       "    <tr>\n",
       "      <th>...</th>\n",
       "      <td>...</td>\n",
       "      <td>...</td>\n",
       "    </tr>\n",
       "    <tr>\n",
       "      <th>821918</th>\n",
       "      <td>member</td>\n",
       "      <td>NaN</td>\n",
       "    </tr>\n",
       "    <tr>\n",
       "      <th>719929</th>\n",
       "      <td>casual</td>\n",
       "      <td>NaN</td>\n",
       "    </tr>\n",
       "    <tr>\n",
       "      <th>533419</th>\n",
       "      <td>casual</td>\n",
       "      <td>NaN</td>\n",
       "    </tr>\n",
       "    <tr>\n",
       "      <th>823544</th>\n",
       "      <td>casual</td>\n",
       "      <td>NaN</td>\n",
       "    </tr>\n",
       "    <tr>\n",
       "      <th>1895593</th>\n",
       "      <td>casual</td>\n",
       "      <td>NaN</td>\n",
       "    </tr>\n",
       "  </tbody>\n",
       "</table>\n",
       "<p>5967761 rows × 2 columns</p>\n",
       "</div>"
      ],
      "text/plain": [
       "         member_casual  avgTemp\n",
       "28767020        member    -11.7\n",
       "29409804        member    -11.7\n",
       "28336697        member    -11.7\n",
       "28947307        member    -11.7\n",
       "28257958        member    -11.7\n",
       "...                ...      ...\n",
       "821918          member      NaN\n",
       "719929          casual      NaN\n",
       "533419          casual      NaN\n",
       "823544          casual      NaN\n",
       "1895593         casual      NaN\n",
       "\n",
       "[5967761 rows x 2 columns]"
      ]
     },
     "execution_count": 53,
     "metadata": {},
     "output_type": "execute_result"
    }
   ],
   "source": [
    "df_datesort"
   ]
  },
  {
   "cell_type": "code",
   "execution_count": 54,
   "id": "9ade90ba-e850-4a1b-839b-09c794234d17",
   "metadata": {},
   "outputs": [
    {
     "data": {
      "text/plain": [
       "member_casual      0\n",
       "avgTemp          119\n",
       "dtype: int64"
      ]
     },
     "execution_count": 54,
     "metadata": {},
     "output_type": "execute_result"
    }
   ],
   "source": [
    "           # 2) Find number of missing avgTemp and member_casual values and create subset of missing values\n",
    "\n",
    "df_datesort.isnull().sum()"
   ]
  },
  {
   "cell_type": "code",
   "execution_count": 55,
   "id": "6a289432-92a1-46b3-ad00-30c1e17b2281",
   "metadata": {},
   "outputs": [
    {
     "data": {
      "text/html": [
       "<div>\n",
       "<style scoped>\n",
       "    .dataframe tbody tr th:only-of-type {\n",
       "        vertical-align: middle;\n",
       "    }\n",
       "\n",
       "    .dataframe tbody tr th {\n",
       "        vertical-align: top;\n",
       "    }\n",
       "\n",
       "    .dataframe thead th {\n",
       "        text-align: right;\n",
       "    }\n",
       "</style>\n",
       "<table border=\"1\" class=\"dataframe\">\n",
       "  <thead>\n",
       "    <tr style=\"text-align: right;\">\n",
       "      <th></th>\n",
       "      <th>member_casual</th>\n",
       "      <th>avgTemp</th>\n",
       "    </tr>\n",
       "  </thead>\n",
       "  <tbody>\n",
       "    <tr>\n",
       "      <th>825981</th>\n",
       "      <td>casual</td>\n",
       "      <td>NaN</td>\n",
       "    </tr>\n",
       "    <tr>\n",
       "      <th>832973</th>\n",
       "      <td>casual</td>\n",
       "      <td>NaN</td>\n",
       "    </tr>\n",
       "    <tr>\n",
       "      <th>841004</th>\n",
       "      <td>member</td>\n",
       "      <td>NaN</td>\n",
       "    </tr>\n",
       "    <tr>\n",
       "      <th>837888</th>\n",
       "      <td>casual</td>\n",
       "      <td>NaN</td>\n",
       "    </tr>\n",
       "    <tr>\n",
       "      <th>29748</th>\n",
       "      <td>casual</td>\n",
       "      <td>NaN</td>\n",
       "    </tr>\n",
       "    <tr>\n",
       "      <th>...</th>\n",
       "      <td>...</td>\n",
       "      <td>...</td>\n",
       "    </tr>\n",
       "    <tr>\n",
       "      <th>821918</th>\n",
       "      <td>member</td>\n",
       "      <td>NaN</td>\n",
       "    </tr>\n",
       "    <tr>\n",
       "      <th>719929</th>\n",
       "      <td>casual</td>\n",
       "      <td>NaN</td>\n",
       "    </tr>\n",
       "    <tr>\n",
       "      <th>533419</th>\n",
       "      <td>casual</td>\n",
       "      <td>NaN</td>\n",
       "    </tr>\n",
       "    <tr>\n",
       "      <th>823544</th>\n",
       "      <td>casual</td>\n",
       "      <td>NaN</td>\n",
       "    </tr>\n",
       "    <tr>\n",
       "      <th>1895593</th>\n",
       "      <td>casual</td>\n",
       "      <td>NaN</td>\n",
       "    </tr>\n",
       "  </tbody>\n",
       "</table>\n",
       "<p>119 rows × 2 columns</p>\n",
       "</div>"
      ],
      "text/plain": [
       "        member_casual  avgTemp\n",
       "825981         casual      NaN\n",
       "832973         casual      NaN\n",
       "841004         member      NaN\n",
       "837888         casual      NaN\n",
       "29748          casual      NaN\n",
       "...               ...      ...\n",
       "821918         member      NaN\n",
       "719929         casual      NaN\n",
       "533419         casual      NaN\n",
       "823544         casual      NaN\n",
       "1895593        casual      NaN\n",
       "\n",
       "[119 rows x 2 columns]"
      ]
     },
     "execution_count": 55,
     "metadata": {},
     "output_type": "execute_result"
    }
   ],
   "source": [
    "                   #create subset of df_datesort that contains only missing temp values\n",
    "\n",
    "df_nan = df_datesort[df_datesort['avgTemp'].isnull() == True]\n",
    "df_nan"
   ]
  },
  {
   "cell_type": "code",
   "execution_count": 56,
   "id": "1d1d07f0-6581-4746-bd3a-3d9128231b82",
   "metadata": {},
   "outputs": [
    {
     "data": {
      "text/html": [
       "<div>\n",
       "<style scoped>\n",
       "    .dataframe tbody tr th:only-of-type {\n",
       "        vertical-align: middle;\n",
       "    }\n",
       "\n",
       "    .dataframe tbody tr th {\n",
       "        vertical-align: top;\n",
       "    }\n",
       "\n",
       "    .dataframe thead th {\n",
       "        text-align: right;\n",
       "    }\n",
       "</style>\n",
       "<table border=\"1\" class=\"dataframe\">\n",
       "  <thead>\n",
       "    <tr style=\"text-align: right;\">\n",
       "      <th></th>\n",
       "      <th>member_casual</th>\n",
       "      <th>avgTemp</th>\n",
       "    </tr>\n",
       "  </thead>\n",
       "  <tbody>\n",
       "  </tbody>\n",
       "</table>\n",
       "</div>"
      ],
      "text/plain": [
       "Empty DataFrame\n",
       "Columns: [member_casual, avgTemp]\n",
       "Index: []"
      ]
     },
     "execution_count": 56,
     "metadata": {},
     "output_type": "execute_result"
    }
   ],
   "source": [
    "                    #create subset of df_datesort that contains only missing member_casual values\n",
    "\n",
    "df_nan2 = df_datesort[df_datesort['member_casual'].isnull() == True]\n",
    "df_nan2"
   ]
  },
  {
   "cell_type": "code",
   "execution_count": 57,
   "id": "e348bcb3-c75c-484d-b396-11f652d94ebf",
   "metadata": {},
   "outputs": [],
   "source": [
    "# So, 144/5967761 (.0024%) temps are missing\n",
    "# What do I with the missing data? Ignore them, impute the values or remove the missing data?\n",
    "# I will remove the missing values since it will not effect the overall results very much"
   ]
  },
  {
   "cell_type": "markdown",
   "id": "52b9d08f-de44-4817-bab2-86abe5bfad89",
   "metadata": {},
   "source": [
    "#### create df w/o missing avgTemps"
   ]
  },
  {
   "cell_type": "code",
   "execution_count": 58,
   "id": "efc0115c-0ede-4912-afb4-0836b5092d63",
   "metadata": {},
   "outputs": [],
   "source": [
    "df_temp_memb_clean = df_datesort[df_datesort['avgTemp'].isnull() == False]"
   ]
  },
  {
   "cell_type": "code",
   "execution_count": 59,
   "id": "20086031-4496-4846-b009-6b49af33dc99",
   "metadata": {},
   "outputs": [
    {
     "data": {
      "text/plain": [
       "(5967642, 2)"
      ]
     },
     "execution_count": 59,
     "metadata": {},
     "output_type": "execute_result"
    }
   ],
   "source": [
    "df_temp_memb_clean.shape"
   ]
  },
  {
   "cell_type": "code",
   "execution_count": 60,
   "id": "3e0eaea0-4241-47a3-9f01-127122f3b00c",
   "metadata": {},
   "outputs": [
    {
     "data": {
      "text/html": [
       "<div>\n",
       "<style scoped>\n",
       "    .dataframe tbody tr th:only-of-type {\n",
       "        vertical-align: middle;\n",
       "    }\n",
       "\n",
       "    .dataframe tbody tr th {\n",
       "        vertical-align: top;\n",
       "    }\n",
       "\n",
       "    .dataframe thead th {\n",
       "        text-align: right;\n",
       "    }\n",
       "</style>\n",
       "<table border=\"1\" class=\"dataframe\">\n",
       "  <thead>\n",
       "    <tr style=\"text-align: right;\">\n",
       "      <th></th>\n",
       "      <th>member_casual</th>\n",
       "      <th>avgTemp</th>\n",
       "    </tr>\n",
       "  </thead>\n",
       "  <tbody>\n",
       "    <tr>\n",
       "      <th>28767020</th>\n",
       "      <td>member</td>\n",
       "      <td>-11.7</td>\n",
       "    </tr>\n",
       "    <tr>\n",
       "      <th>29409804</th>\n",
       "      <td>member</td>\n",
       "      <td>-11.7</td>\n",
       "    </tr>\n",
       "    <tr>\n",
       "      <th>28336697</th>\n",
       "      <td>member</td>\n",
       "      <td>-11.7</td>\n",
       "    </tr>\n",
       "    <tr>\n",
       "      <th>28947307</th>\n",
       "      <td>member</td>\n",
       "      <td>-11.7</td>\n",
       "    </tr>\n",
       "    <tr>\n",
       "      <th>28257958</th>\n",
       "      <td>member</td>\n",
       "      <td>-11.7</td>\n",
       "    </tr>\n",
       "  </tbody>\n",
       "</table>\n",
       "</div>"
      ],
      "text/plain": [
       "         member_casual  avgTemp\n",
       "28767020        member    -11.7\n",
       "29409804        member    -11.7\n",
       "28336697        member    -11.7\n",
       "28947307        member    -11.7\n",
       "28257958        member    -11.7"
      ]
     },
     "execution_count": 60,
     "metadata": {},
     "output_type": "execute_result"
    }
   ],
   "source": [
    "df_temp_memb_clean.head()"
   ]
  },
  {
   "cell_type": "code",
   "execution_count": 61,
   "id": "442ccdc6-59f9-4320-a9cb-50f96526d88c",
   "metadata": {},
   "outputs": [
    {
     "name": "stderr",
     "output_type": "stream",
     "text": [
      "C:\\Users\\Barb\\AppData\\Local\\Temp\\ipykernel_4364\\1925224326.py:2: FutureWarning: \n",
      "\n",
      "Passing `palette` without assigning `hue` is deprecated and will be removed in v0.14.0. Assign the `x` variable to `hue` and set `legend=False` for the same effect.\n",
      "\n",
      "  sns.boxplot(x = 'member_casual', y = 'avgTemp', data = df, palette = {'member': 'royalblue', 'casual': 'pink'})\n"
     ]
    },
    {
     "data": {
      "image/png": "[encoded data removed]",
      "text/plain": [
       "<Figure size 900x500 with 1 Axes>"
      ]
     },
     "metadata": {},
     "output_type": "display_data"
    }
   ],
   "source": [
    "plt.figure(figsize=(9,5))\n",
    "sns.boxplot(x = 'member_casual', y = 'avgTemp', data = df, palette = {'member': 'royalblue', 'casual': 'pink'})\n",
    "plt.show()"
   ]
  },
  {
   "cell_type": "markdown",
   "id": "bb55e21a-83f5-4e3b-a34c-037cadd2d10a",
   "metadata": {},
   "source": [
    "The variables follow a similar distribution. However the casual user is shifted more downward and has more outliers. The median for the casual user is 20 degrees while the median for the member is about 17 degrees."
   ]
  },
  {
   "cell_type": "markdown",
   "id": "654c03c6-ddd8-4307-ae50-30ecc2124b8d",
   "metadata": {},
   "source": [
    "### FacetGrids"
   ]
  },
  {
   "cell_type": "code",
   "execution_count": 62,
   "id": "e81b0d73-c492-4a58-ab6f-568c1ca30d5d",
   "metadata": {},
   "outputs": [
    {
     "data": {
      "image/png": "[encoded data removed]",
      "text/plain": [
       "<Figure size 600x300 with 2 Axes>"
      ]
     },
     "metadata": {},
     "output_type": "display_data"
    }
   ],
   "source": [
    "grid = sns.FacetGrid(df, col = \"member_casual\")\n",
    "grid.map(sns.histplot, \"avgTemp\", bins = 15)\n",
    "plt.show()"
   ]
  },
  {
   "cell_type": "markdown",
   "id": "88fc2552-00a1-4892-a472-f8d3937da81c",
   "metadata": {},
   "source": [
    "The above facetgrid shows the average temperatures when the customer (member and casual) rode the bikes. I notice that both histograms have the same basic shapes.\n",
    "However, a greater % of the members ride their bikes below 0 degrees Celcius. "
   ]
  }
 ],
 "metadata": {
  "kernelspec": {
   "display_name": "Python 3 (ipykernel)",
   "language": "python",
   "name": "python3"
  },
  "language_info": {
   "codemirror_mode": {
    "name": "ipython",
    "version": 3
   },
   "file_extension": ".py",
   "mimetype": "text/x-python",
   "name": "python",
   "nbconvert_exporter": "python",
   "pygments_lexer": "ipython3",
   "version": "3.12.7"
  }
 },
 "nbformat": 4,
 "nbformat_minor": 5
}
