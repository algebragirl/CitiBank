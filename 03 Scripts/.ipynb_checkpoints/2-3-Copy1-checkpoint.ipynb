{
 "cells": [
  {
   "cell_type": "markdown",
   "id": "471e14b1-ac11-4827-8b14-38372444249e",
   "metadata": {},
   "source": [
    "## E3 Fundamentals of Visualization libraries Part 1 ß Matplotlib"
   ]
  },
  {
   "cell_type": "code",
   "execution_count": 1,
   "id": "1cdbdfd0-cac2-4c92-ad99-18fb5b9e1e38",
   "metadata": {},
   "outputs": [],
   "source": [
    "import pandas as pd\n",
    "from matplotlib import pyplot as plt\n",
    "import numpy as np\n",
    "from datetime import datetime as dt"
   ]
  },
  {
   "cell_type": "code",
   "execution_count": 2,
   "id": "b8829bc9-dcfc-4cdf-b23e-24c64d7ab245",
   "metadata": {},
   "outputs": [
    {
     "data": {
      "text/plain": [
       "'3.9.3'"
      ]
     },
     "execution_count": 2,
     "metadata": {},
     "output_type": "execute_result"
    }
   ],
   "source": [
    "import matplotlib\n",
    "matplotlib.__version__"
   ]
  },
  {
   "cell_type": "code",
   "execution_count": 3,
   "id": "a1ffb5ed-f77b-445a-a83f-c2b7c53db7f7",
   "metadata": {},
   "outputs": [
    {
     "name": "stderr",
     "output_type": "stream",
     "text": [
      "C:\\Users\\Barb\\AppData\\Local\\Temp\\ipykernel_12024\\1702794093.py:3: DtypeWarning: Columns (6,8) have mixed types. Specify dtype option on import or set low_memory=False.\n",
      "  df = pd.read_csv('NY_data_sample.csv', index_col = 0)\n"
     ]
    }
   ],
   "source": [
    "#import data\n",
    "\n",
    "df = pd.read_csv('NY_data_sample.csv', index_col = 0)"
   ]
  },
  {
   "cell_type": "code",
   "execution_count": 4,
   "id": "94040d86-5076-4613-97f0-0121b87b360c",
   "metadata": {},
   "outputs": [
    {
     "data": {
      "text/plain": [
       "Index(['ride_id', 'rideable_type', 'started_at', 'ended_at',\n",
       "       'start_station_name', 'start_station_id', 'end_station_name',\n",
       "       'end_station_id', 'start_lat', 'start_lng', 'end_lat', 'end_lng',\n",
       "       'member_casual', 'date', 'avgTemp', '_merge'],\n",
       "      dtype='object')"
      ]
     },
     "execution_count": 4,
     "metadata": {},
     "output_type": "execute_result"
    }
   ],
   "source": [
    "df.columns"
   ]
  },
  {
   "cell_type": "code",
   "execution_count": 5,
   "id": "1210252d-ce84-4dda-9247-ae5be81ea121",
   "metadata": {},
   "outputs": [
    {
     "data": {
      "text/plain": [
       "(5967761, 16)"
      ]
     },
     "execution_count": 5,
     "metadata": {},
     "output_type": "execute_result"
    }
   ],
   "source": [
    "df.shape"
   ]
  },
  {
   "cell_type": "markdown",
   "id": "71113ba1-2f71-4017-8195-2dc1ad5639c1",
   "metadata": {},
   "source": [
    "## Line plot\n",
    "### Dual-axis line plot"
   ]
  },
  {
   "cell_type": "markdown",
   "id": "beb4980f-f1a0-42f7-84e3-da9d7eed83b9",
   "metadata": {},
   "source": [
    "#### Plot avg temp vs date"
   ]
  },
  {
   "cell_type": "markdown",
   "id": "565b26f5-b625-44d7-96e2-78af04190d97",
   "metadata": {},
   "source": [
    "##### Slim down the df dataframe by (1) dropping unnecessary columns and (2) Dropping duplicates"
   ]
  },
  {
   "cell_type": "markdown",
   "id": "d327d78e-d91a-404f-83be-2893850afa44",
   "metadata": {},
   "source": [
    "##### (1) Drop unnecessary columns - only keep date and avgTemp columns"
   ]
  },
  {
   "cell_type": "code",
   "execution_count": 6,
   "id": "2a6eeaf2-aad5-48a4-b083-6a930678011a",
   "metadata": {},
   "outputs": [],
   "source": [
    "df_drop_col = df.drop(columns = ['_merge', 'ride_id', 'rideable_type', 'started_at', 'ended_at', 'start_station_name', 'start_station_id', 'end_station_name', 'end_station_id', 'start_lat', 'start_lng', 'end_lat', 'end_lng', 'member_casual'])"
   ]
  },
  {
   "cell_type": "code",
   "execution_count": 7,
   "id": "2da96bcb-1c35-40ec-8ae2-41291f6576ff",
   "metadata": {},
   "outputs": [],
   "source": [
    "#Check if columns were dropped"
   ]
  },
  {
   "cell_type": "code",
   "execution_count": 8,
   "id": "60b682ed-3112-4634-9e9e-ee11595a3060",
   "metadata": {},
   "outputs": [
    {
     "data": {
      "text/html": [
       "<div>\n",
       "<style scoped>\n",
       "    .dataframe tbody tr th:only-of-type {\n",
       "        vertical-align: middle;\n",
       "    }\n",
       "\n",
       "    .dataframe tbody tr th {\n",
       "        vertical-align: top;\n",
       "    }\n",
       "\n",
       "    .dataframe thead th {\n",
       "        text-align: right;\n",
       "    }\n",
       "</style>\n",
       "<table border=\"1\" class=\"dataframe\">\n",
       "  <thead>\n",
       "    <tr style=\"text-align: right;\">\n",
       "      <th></th>\n",
       "      <th>date</th>\n",
       "      <th>avgTemp</th>\n",
       "    </tr>\n",
       "  </thead>\n",
       "  <tbody>\n",
       "    <tr>\n",
       "      <th>25092672</th>\n",
       "      <td>2022-10-20</td>\n",
       "      <td>11.1</td>\n",
       "    </tr>\n",
       "    <tr>\n",
       "      <th>850261</th>\n",
       "      <td>2022-01-19</td>\n",
       "      <td>3.2</td>\n",
       "    </tr>\n",
       "    <tr>\n",
       "      <th>25461273</th>\n",
       "      <td>2022-10-31</td>\n",
       "      <td>14.4</td>\n",
       "    </tr>\n",
       "    <tr>\n",
       "      <th>8836007</th>\n",
       "      <td>2022-05-02</td>\n",
       "      <td>12.1</td>\n",
       "    </tr>\n",
       "    <tr>\n",
       "      <th>20383470</th>\n",
       "      <td>2022-09-20</td>\n",
       "      <td>23.2</td>\n",
       "    </tr>\n",
       "  </tbody>\n",
       "</table>\n",
       "</div>"
      ],
      "text/plain": [
       "                date  avgTemp\n",
       "25092672  2022-10-20     11.1\n",
       "850261    2022-01-19      3.2\n",
       "25461273  2022-10-31     14.4\n",
       "8836007   2022-05-02     12.1\n",
       "20383470  2022-09-20     23.2"
      ]
     },
     "execution_count": 8,
     "metadata": {},
     "output_type": "execute_result"
    }
   ],
   "source": [
    "df_drop_col.head()"
   ]
  },
  {
   "cell_type": "markdown",
   "id": "1f61caa3-adfe-40ee-9ed7-bc23311ddcc5",
   "metadata": {},
   "source": [
    "##### (2) Remove duplicate rows"
   ]
  },
  {
   "cell_type": "code",
   "execution_count": 9,
   "id": "051018af-bc3e-46c7-ba67-6d2786e970f5",
   "metadata": {},
   "outputs": [],
   "source": [
    "# find duplicate rows for df containing only date and avgTemp\n",
    "           #1st - Find the total # of rows of df_drop_col"
   ]
  },
  {
   "cell_type": "code",
   "execution_count": 10,
   "id": "497635fb-1b99-4b92-9dc8-de9e7de1b0b4",
   "metadata": {},
   "outputs": [
    {
     "data": {
      "text/plain": [
       "(5967761, 2)"
      ]
     },
     "execution_count": 10,
     "metadata": {},
     "output_type": "execute_result"
    }
   ],
   "source": [
    "df_drop_col.shape"
   ]
  },
  {
   "cell_type": "code",
   "execution_count": 11,
   "id": "8bd7baa5-1684-477a-93ec-8baf3abef93a",
   "metadata": {},
   "outputs": [],
   "source": [
    "           #2nd - find the number of duplicate rows"
   ]
  },
  {
   "cell_type": "code",
   "execution_count": 12,
   "id": "5a727a79-9c91-4cc7-b6a6-8cfc41096bfb",
   "metadata": {},
   "outputs": [],
   "source": [
    "df_dups = df_drop_col[df_drop_col.duplicated()]"
   ]
  },
  {
   "cell_type": "code",
   "execution_count": 13,
   "id": "4017dce4-b668-4156-8095-6fc657af1b6a",
   "metadata": {},
   "outputs": [
    {
     "data": {
      "text/plain": [
       "(5967385, 2)"
      ]
     },
     "execution_count": 13,
     "metadata": {},
     "output_type": "execute_result"
    }
   ],
   "source": [
    "df_dups.shape"
   ]
  },
  {
   "cell_type": "code",
   "execution_count": 14,
   "id": "a47c9331-52b7-4f5e-9b9b-87de865d3705",
   "metadata": {},
   "outputs": [],
   "source": [
    "            #3rd - create df_no_dups which comtains no duplicates"
   ]
  },
  {
   "cell_type": "code",
   "execution_count": 15,
   "id": "ea8c9a7f-ff94-4efc-a7d1-c87bfbe09371",
   "metadata": {},
   "outputs": [],
   "source": [
    "df_no_dups = df_drop_col.drop_duplicates()"
   ]
  },
  {
   "cell_type": "code",
   "execution_count": 16,
   "id": "8c7c582d-63af-4d1e-b493-8990d72a33e4",
   "metadata": {},
   "outputs": [
    {
     "data": {
      "text/plain": [
       "(376, 2)"
      ]
     },
     "execution_count": 16,
     "metadata": {},
     "output_type": "execute_result"
    }
   ],
   "source": [
    "df_no_dups.shape      "
   ]
  },
  {
   "cell_type": "code",
   "execution_count": 17,
   "id": "f769589c-aff5-43bf-bddd-95aabc4406f6",
   "metadata": {},
   "outputs": [],
   "source": [
    "#check to see that duplicates were removed\n",
    "##df_drop_col - df_no_dups = # of duplicate rows\n"
   ]
  },
  {
   "cell_type": "code",
   "execution_count": 18,
   "id": "e557f2b6-5a2c-4504-8830-4c8f5e778054",
   "metadata": {},
   "outputs": [
    {
     "data": {
      "text/plain": [
       "date        object\n",
       "avgTemp    float64\n",
       "dtype: object"
      ]
     },
     "execution_count": 18,
     "metadata": {},
     "output_type": "execute_result"
    }
   ],
   "source": [
    "df_no_dups.dtypes"
   ]
  },
  {
   "cell_type": "code",
   "execution_count": 19,
   "id": "522c6301-a8bc-4680-9761-96c673cce66b",
   "metadata": {},
   "outputs": [
    {
     "name": "stderr",
     "output_type": "stream",
     "text": [
      "C:\\Users\\Barb\\AppData\\Local\\Temp\\ipykernel_12024\\253987533.py:2: SettingWithCopyWarning: \n",
      "A value is trying to be set on a copy of a slice from a DataFrame.\n",
      "Try using .loc[row_indexer,col_indexer] = value instead\n",
      "\n",
      "See the caveats in the documentation: https://pandas.pydata.org/pandas-docs/stable/user_guide/indexing.html#returning-a-view-versus-a-copy\n",
      "  df_no_dups['date'] = pd.to_datetime(df_no_dups['date'])\n"
     ]
    }
   ],
   "source": [
    "#Change date to datetime64 format; reading data from csv file automatically puts date in object format\n",
    "df_no_dups['date'] = pd.to_datetime(df_no_dups['date'])"
   ]
  },
  {
   "cell_type": "code",
   "execution_count": 20,
   "id": "ffb8fade-a352-47dc-a007-89731dd5dde6",
   "metadata": {},
   "outputs": [
    {
     "data": {
      "text/plain": [
       "date       datetime64[ns]\n",
       "avgTemp           float64\n",
       "dtype: object"
      ]
     },
     "execution_count": 20,
     "metadata": {},
     "output_type": "execute_result"
    }
   ],
   "source": [
    "df_no_dups.dtypes"
   ]
  },
  {
   "cell_type": "code",
   "execution_count": 21,
   "id": "d8e4c5e4-a138-4748-a625-f710c4f4056b",
   "metadata": {},
   "outputs": [
    {
     "data": {
      "text/html": [
       "<div>\n",
       "<style scoped>\n",
       "    .dataframe tbody tr th:only-of-type {\n",
       "        vertical-align: middle;\n",
       "    }\n",
       "\n",
       "    .dataframe tbody tr th {\n",
       "        vertical-align: top;\n",
       "    }\n",
       "\n",
       "    .dataframe thead th {\n",
       "        text-align: right;\n",
       "    }\n",
       "</style>\n",
       "<table border=\"1\" class=\"dataframe\">\n",
       "  <thead>\n",
       "    <tr style=\"text-align: right;\">\n",
       "      <th></th>\n",
       "      <th>date</th>\n",
       "      <th>avgTemp</th>\n",
       "    </tr>\n",
       "  </thead>\n",
       "  <tbody>\n",
       "    <tr>\n",
       "      <th>25092672</th>\n",
       "      <td>2022-10-20</td>\n",
       "      <td>11.1</td>\n",
       "    </tr>\n",
       "    <tr>\n",
       "      <th>850261</th>\n",
       "      <td>2022-01-19</td>\n",
       "      <td>3.2</td>\n",
       "    </tr>\n",
       "    <tr>\n",
       "      <th>25461273</th>\n",
       "      <td>2022-10-31</td>\n",
       "      <td>14.4</td>\n",
       "    </tr>\n",
       "    <tr>\n",
       "      <th>8836007</th>\n",
       "      <td>2022-05-02</td>\n",
       "      <td>12.1</td>\n",
       "    </tr>\n",
       "    <tr>\n",
       "      <th>20383470</th>\n",
       "      <td>2022-09-20</td>\n",
       "      <td>23.2</td>\n",
       "    </tr>\n",
       "    <tr>\n",
       "      <th>...</th>\n",
       "      <td>...</td>\n",
       "      <td>...</td>\n",
       "    </tr>\n",
       "    <tr>\n",
       "      <th>1887411</th>\n",
       "      <td>2021-12-08</td>\n",
       "      <td>NaN</td>\n",
       "    </tr>\n",
       "    <tr>\n",
       "      <th>2167335</th>\n",
       "      <td>2021-03-14</td>\n",
       "      <td>NaN</td>\n",
       "    </tr>\n",
       "    <tr>\n",
       "      <th>546228</th>\n",
       "      <td>2021-12-26</td>\n",
       "      <td>NaN</td>\n",
       "    </tr>\n",
       "    <tr>\n",
       "      <th>10829245</th>\n",
       "      <td>2021-03-11</td>\n",
       "      <td>NaN</td>\n",
       "    </tr>\n",
       "    <tr>\n",
       "      <th>1895593</th>\n",
       "      <td>2021-08-16</td>\n",
       "      <td>NaN</td>\n",
       "    </tr>\n",
       "  </tbody>\n",
       "</table>\n",
       "<p>376 rows × 2 columns</p>\n",
       "</div>"
      ],
      "text/plain": [
       "               date  avgTemp\n",
       "25092672 2022-10-20     11.1\n",
       "850261   2022-01-19      3.2\n",
       "25461273 2022-10-31     14.4\n",
       "8836007  2022-05-02     12.1\n",
       "20383470 2022-09-20     23.2\n",
       "...             ...      ...\n",
       "1887411  2021-12-08      NaN\n",
       "2167335  2021-03-14      NaN\n",
       "546228   2021-12-26      NaN\n",
       "10829245 2021-03-11      NaN\n",
       "1895593  2021-08-16      NaN\n",
       "\n",
       "[376 rows x 2 columns]"
      ]
     },
     "execution_count": 21,
     "metadata": {},
     "output_type": "execute_result"
    }
   ],
   "source": [
    "df_no_dups"
   ]
  },
  {
   "cell_type": "markdown",
   "id": "b42ac224-7884-41c4-a19b-c6791a9450df",
   "metadata": {},
   "source": [
    "### Basic plotting with pandas"
   ]
  },
  {
   "cell_type": "markdown",
   "id": "17ef08e7-e3fd-48b2-9c7a-f35767a012e0",
   "metadata": {},
   "source": [
    "### Plotting average temperatures vs date"
   ]
  },
  {
   "cell_type": "code",
   "execution_count": 22,
   "id": "169bf40a-8d09-42c5-b7a1-1ecdbb0aa167",
   "metadata": {},
   "outputs": [],
   "source": [
    "df_temp = df_no_dups.set_index('date')"
   ]
  },
  {
   "cell_type": "code",
   "execution_count": 23,
   "id": "d0b5125f-dccf-40fd-8023-468d1237bbd9",
   "metadata": {},
   "outputs": [],
   "source": [
    "df_datesort = df_temp.sort_values(by = 'date')"
   ]
  },
  {
   "cell_type": "code",
   "execution_count": 24,
   "id": "ed0d8332-ce2c-4235-afb7-26b5f3912609",
   "metadata": {},
   "outputs": [
    {
     "data": {
      "text/html": [
       "<div>\n",
       "<style scoped>\n",
       "    .dataframe tbody tr th:only-of-type {\n",
       "        vertical-align: middle;\n",
       "    }\n",
       "\n",
       "    .dataframe tbody tr th {\n",
       "        vertical-align: top;\n",
       "    }\n",
       "\n",
       "    .dataframe thead th {\n",
       "        text-align: right;\n",
       "    }\n",
       "</style>\n",
       "<table border=\"1\" class=\"dataframe\">\n",
       "  <thead>\n",
       "    <tr style=\"text-align: right;\">\n",
       "      <th></th>\n",
       "      <th>avgTemp</th>\n",
       "    </tr>\n",
       "    <tr>\n",
       "      <th>date</th>\n",
       "      <th></th>\n",
       "    </tr>\n",
       "  </thead>\n",
       "  <tbody>\n",
       "    <tr>\n",
       "      <th>2021-03-11</th>\n",
       "      <td>NaN</td>\n",
       "    </tr>\n",
       "    <tr>\n",
       "      <th>2021-03-14</th>\n",
       "      <td>NaN</td>\n",
       "    </tr>\n",
       "    <tr>\n",
       "      <th>2021-04-30</th>\n",
       "      <td>NaN</td>\n",
       "    </tr>\n",
       "    <tr>\n",
       "      <th>2021-08-16</th>\n",
       "      <td>NaN</td>\n",
       "    </tr>\n",
       "    <tr>\n",
       "      <th>2021-11-16</th>\n",
       "      <td>NaN</td>\n",
       "    </tr>\n",
       "    <tr>\n",
       "      <th>...</th>\n",
       "      <td>...</td>\n",
       "    </tr>\n",
       "    <tr>\n",
       "      <th>2022-12-27</th>\n",
       "      <td>-0.7</td>\n",
       "    </tr>\n",
       "    <tr>\n",
       "      <th>2022-12-28</th>\n",
       "      <td>3.4</td>\n",
       "    </tr>\n",
       "    <tr>\n",
       "      <th>2022-12-29</th>\n",
       "      <td>6.4</td>\n",
       "    </tr>\n",
       "    <tr>\n",
       "      <th>2022-12-30</th>\n",
       "      <td>9.3</td>\n",
       "    </tr>\n",
       "    <tr>\n",
       "      <th>2022-12-31</th>\n",
       "      <td>8.2</td>\n",
       "    </tr>\n",
       "  </tbody>\n",
       "</table>\n",
       "<p>376 rows × 1 columns</p>\n",
       "</div>"
      ],
      "text/plain": [
       "            avgTemp\n",
       "date               \n",
       "2021-03-11      NaN\n",
       "2021-03-14      NaN\n",
       "2021-04-30      NaN\n",
       "2021-08-16      NaN\n",
       "2021-11-16      NaN\n",
       "...             ...\n",
       "2022-12-27     -0.7\n",
       "2022-12-28      3.4\n",
       "2022-12-29      6.4\n",
       "2022-12-30      9.3\n",
       "2022-12-31      8.2\n",
       "\n",
       "[376 rows x 1 columns]"
      ]
     },
     "execution_count": 24,
     "metadata": {},
     "output_type": "execute_result"
    }
   ],
   "source": [
    "df_datesort"
   ]
  },
  {
   "cell_type": "code",
   "execution_count": 25,
   "id": "81c67c7e-f9ff-4ec6-bc02-aef7506f3d93",
   "metadata": {},
   "outputs": [
    {
     "data": {
      "text/plain": [
       "avgTemp    11\n",
       "dtype: int64"
      ]
     },
     "execution_count": 25,
     "metadata": {},
     "output_type": "execute_result"
    }
   ],
   "source": [
    "#Find missing temperature values\n",
    "\n",
    "df_datesort.isnull().sum()"
   ]
  },
  {
   "cell_type": "code",
   "execution_count": 26,
   "id": "bc9559c5-fb02-4170-a958-8ffb46f169fa",
   "metadata": {},
   "outputs": [],
   "source": [
    "#create subset of df_datesort that contains only missing values"
   ]
  },
  {
   "cell_type": "code",
   "execution_count": 27,
   "id": "4ab4bb13-02f0-4889-87c3-18a6132a5847",
   "metadata": {},
   "outputs": [],
   "source": [
    "df_nan = df_datesort[df_datesort['avgTemp'].isnull() == True]"
   ]
  },
  {
   "cell_type": "code",
   "execution_count": 28,
   "id": "42633d31-11b9-455d-af6f-7ac53d60a063",
   "metadata": {},
   "outputs": [
    {
     "data": {
      "text/html": [
       "<div>\n",
       "<style scoped>\n",
       "    .dataframe tbody tr th:only-of-type {\n",
       "        vertical-align: middle;\n",
       "    }\n",
       "\n",
       "    .dataframe tbody tr th {\n",
       "        vertical-align: top;\n",
       "    }\n",
       "\n",
       "    .dataframe thead th {\n",
       "        text-align: right;\n",
       "    }\n",
       "</style>\n",
       "<table border=\"1\" class=\"dataframe\">\n",
       "  <thead>\n",
       "    <tr style=\"text-align: right;\">\n",
       "      <th></th>\n",
       "      <th>avgTemp</th>\n",
       "    </tr>\n",
       "    <tr>\n",
       "      <th>date</th>\n",
       "      <th></th>\n",
       "    </tr>\n",
       "  </thead>\n",
       "  <tbody>\n",
       "    <tr>\n",
       "      <th>2021-03-11</th>\n",
       "      <td>NaN</td>\n",
       "    </tr>\n",
       "    <tr>\n",
       "      <th>2021-03-14</th>\n",
       "      <td>NaN</td>\n",
       "    </tr>\n",
       "    <tr>\n",
       "      <th>2021-04-30</th>\n",
       "      <td>NaN</td>\n",
       "    </tr>\n",
       "    <tr>\n",
       "      <th>2021-08-16</th>\n",
       "      <td>NaN</td>\n",
       "    </tr>\n",
       "    <tr>\n",
       "      <th>2021-11-16</th>\n",
       "      <td>NaN</td>\n",
       "    </tr>\n",
       "    <tr>\n",
       "      <th>2021-12-08</th>\n",
       "      <td>NaN</td>\n",
       "    </tr>\n",
       "    <tr>\n",
       "      <th>2021-12-19</th>\n",
       "      <td>NaN</td>\n",
       "    </tr>\n",
       "    <tr>\n",
       "      <th>2021-12-26</th>\n",
       "      <td>NaN</td>\n",
       "    </tr>\n",
       "    <tr>\n",
       "      <th>2021-12-29</th>\n",
       "      <td>NaN</td>\n",
       "    </tr>\n",
       "    <tr>\n",
       "      <th>2021-12-30</th>\n",
       "      <td>NaN</td>\n",
       "    </tr>\n",
       "    <tr>\n",
       "      <th>2021-12-31</th>\n",
       "      <td>NaN</td>\n",
       "    </tr>\n",
       "  </tbody>\n",
       "</table>\n",
       "</div>"
      ],
      "text/plain": [
       "            avgTemp\n",
       "date               \n",
       "2021-03-11      NaN\n",
       "2021-03-14      NaN\n",
       "2021-04-30      NaN\n",
       "2021-08-16      NaN\n",
       "2021-11-16      NaN\n",
       "2021-12-08      NaN\n",
       "2021-12-19      NaN\n",
       "2021-12-26      NaN\n",
       "2021-12-29      NaN\n",
       "2021-12-30      NaN\n",
       "2021-12-31      NaN"
      ]
     },
     "execution_count": 28,
     "metadata": {},
     "output_type": "execute_result"
    }
   ],
   "source": [
    "df_nan"
   ]
  },
  {
   "cell_type": "code",
   "execution_count": 29,
   "id": "633eb7c4-c3ab-474a-880e-570947de7648",
   "metadata": {},
   "outputs": [],
   "source": [
    "#So, 9/374 temps are missing\n",
    "# What do I with the missing data? Ignore them, impute the values or remove the missing data?\n",
    "# I will remove the missing values because all of the temps are in 2021; just interested in year 2022"
   ]
  },
  {
   "cell_type": "code",
   "execution_count": 30,
   "id": "cba3fd6f-6cab-466c-91b9-2381f9d6ac52",
   "metadata": {},
   "outputs": [],
   "source": [
    "#create df w/o missing avgTemps\n",
    "\n",
    "df_temp_clean = df_datesort[df_datesort['avgTemp'].isnull() == False]"
   ]
  },
  {
   "cell_type": "code",
   "execution_count": 31,
   "id": "1ab5e370-d0a2-4033-aa6a-26c7c0ba77d1",
   "metadata": {},
   "outputs": [
    {
     "data": {
      "text/plain": [
       "(365, 1)"
      ]
     },
     "execution_count": 31,
     "metadata": {},
     "output_type": "execute_result"
    }
   ],
   "source": [
    "df_temp_clean.shape"
   ]
  },
  {
   "cell_type": "code",
   "execution_count": 32,
   "id": "d5b8bc7a-636e-4803-860f-a1737721ae6c",
   "metadata": {},
   "outputs": [],
   "source": [
    "import matplotlib as mpl"
   ]
  },
  {
   "cell_type": "code",
   "execution_count": 33,
   "id": "b5fc4548-9bd8-4ad9-bc07-7547d5665635",
   "metadata": {},
   "outputs": [],
   "source": [
    "mpl.rcParams['agg.path.chunksize'] = 10000."
   ]
  },
  {
   "cell_type": "code",
   "execution_count": 34,
   "id": "feed4d06-b200-4502-8745-f8fbc1735f0c",
   "metadata": {},
   "outputs": [
    {
     "data": {
      "text/html": [
       "<div>\n",
       "<style scoped>\n",
       "    .dataframe tbody tr th:only-of-type {\n",
       "        vertical-align: middle;\n",
       "    }\n",
       "\n",
       "    .dataframe tbody tr th {\n",
       "        vertical-align: top;\n",
       "    }\n",
       "\n",
       "    .dataframe thead th {\n",
       "        text-align: right;\n",
       "    }\n",
       "</style>\n",
       "<table border=\"1\" class=\"dataframe\">\n",
       "  <thead>\n",
       "    <tr style=\"text-align: right;\">\n",
       "      <th></th>\n",
       "      <th>avgTemp</th>\n",
       "    </tr>\n",
       "    <tr>\n",
       "      <th>date</th>\n",
       "      <th></th>\n",
       "    </tr>\n",
       "  </thead>\n",
       "  <tbody>\n",
       "    <tr>\n",
       "      <th>2022-12-27</th>\n",
       "      <td>-0.7</td>\n",
       "    </tr>\n",
       "    <tr>\n",
       "      <th>2022-12-28</th>\n",
       "      <td>3.4</td>\n",
       "    </tr>\n",
       "    <tr>\n",
       "      <th>2022-12-29</th>\n",
       "      <td>6.4</td>\n",
       "    </tr>\n",
       "    <tr>\n",
       "      <th>2022-12-30</th>\n",
       "      <td>9.3</td>\n",
       "    </tr>\n",
       "    <tr>\n",
       "      <th>2022-12-31</th>\n",
       "      <td>8.2</td>\n",
       "    </tr>\n",
       "  </tbody>\n",
       "</table>\n",
       "</div>"
      ],
      "text/plain": [
       "            avgTemp\n",
       "date               \n",
       "2022-12-27     -0.7\n",
       "2022-12-28      3.4\n",
       "2022-12-29      6.4\n",
       "2022-12-30      9.3\n",
       "2022-12-31      8.2"
      ]
     },
     "execution_count": 34,
     "metadata": {},
     "output_type": "execute_result"
    }
   ],
   "source": [
    "df_temp_clean.tail()"
   ]
  },
  {
   "cell_type": "code",
   "execution_count": 35,
   "id": "709aab03-1712-4ff9-acb6-09bf43f39cc3",
   "metadata": {},
   "outputs": [
    {
     "data": {
      "image/png": "[encoded data removed]",
      "text/plain": [
       "<Figure size 1000x400 with 1 Axes>"
      ]
     },
     "metadata": {},
     "output_type": "display_data"
    }
   ],
   "source": [
    "plt.figure(figsize=(10,4))\n",
    "plt.title('Temperatures daily for 2022')\n",
    "plt.plot(df_temp_clean['avgTemp'])\n",
    "plt.show()"
   ]
  },
  {
   "cell_type": "markdown",
   "id": "904cdabd-d0cc-4c31-9de3-86cadf2cd6e0",
   "metadata": {},
   "source": [
    "### Aggregate Bike trips "
   ]
  },
  {
   "cell_type": "code",
   "execution_count": 36,
   "id": "d773a6da-0d1d-4bc9-93e5-a3a92cf1408e",
   "metadata": {},
   "outputs": [
    {
     "data": {
      "text/plain": [
       "Index(['ride_id', 'rideable_type', 'started_at', 'ended_at',\n",
       "       'start_station_name', 'start_station_id', 'end_station_name',\n",
       "       'end_station_id', 'start_lat', 'start_lng', 'end_lat', 'end_lng',\n",
       "       'member_casual', 'date', 'avgTemp', '_merge'],\n",
       "      dtype='object')"
      ]
     },
     "execution_count": 36,
     "metadata": {},
     "output_type": "execute_result"
    }
   ],
   "source": [
    "df.columns"
   ]
  },
  {
   "cell_type": "code",
   "execution_count": 37,
   "id": "9a5fb67e-6689-4613-87d5-4281de214298",
   "metadata": {},
   "outputs": [],
   "source": [
    "# Groupby the count of the trips \n",
    "\n",
    "df_group = pd.DataFrame(df.groupby(['date'])['ride_id'].count()).reset_index()"
   ]
  },
  {
   "cell_type": "code",
   "execution_count": 38,
   "id": "0d520a55-0e30-4009-b6f2-5ec4237fb299",
   "metadata": {
    "scrolled": true
   },
   "outputs": [
    {
     "data": {
      "text/html": [
       "<div>\n",
       "<style scoped>\n",
       "    .dataframe tbody tr th:only-of-type {\n",
       "        vertical-align: middle;\n",
       "    }\n",
       "\n",
       "    .dataframe tbody tr th {\n",
       "        vertical-align: top;\n",
       "    }\n",
       "\n",
       "    .dataframe thead th {\n",
       "        text-align: right;\n",
       "    }\n",
       "</style>\n",
       "<table border=\"1\" class=\"dataframe\">\n",
       "  <thead>\n",
       "    <tr style=\"text-align: right;\">\n",
       "      <th></th>\n",
       "      <th>date</th>\n",
       "      <th>ride_id</th>\n",
       "    </tr>\n",
       "  </thead>\n",
       "  <tbody>\n",
       "    <tr>\n",
       "      <th>0</th>\n",
       "      <td>2021-03-11</td>\n",
       "      <td>1</td>\n",
       "    </tr>\n",
       "    <tr>\n",
       "      <th>1</th>\n",
       "      <td>2021-03-14</td>\n",
       "      <td>1</td>\n",
       "    </tr>\n",
       "    <tr>\n",
       "      <th>2</th>\n",
       "      <td>2021-04-30</td>\n",
       "      <td>1</td>\n",
       "    </tr>\n",
       "    <tr>\n",
       "      <th>3</th>\n",
       "      <td>2021-08-16</td>\n",
       "      <td>1</td>\n",
       "    </tr>\n",
       "    <tr>\n",
       "      <th>4</th>\n",
       "      <td>2021-11-16</td>\n",
       "      <td>1</td>\n",
       "    </tr>\n",
       "  </tbody>\n",
       "</table>\n",
       "</div>"
      ],
      "text/plain": [
       "         date  ride_id\n",
       "0  2021-03-11        1\n",
       "1  2021-03-14        1\n",
       "2  2021-04-30        1\n",
       "3  2021-08-16        1\n",
       "4  2021-11-16        1"
      ]
     },
     "execution_count": 38,
     "metadata": {},
     "output_type": "execute_result"
    }
   ],
   "source": [
    "df_group.head()"
   ]
  },
  {
   "cell_type": "code",
   "execution_count": 39,
   "id": "40ce7238-581c-4b1f-b8f6-326bcae951c0",
   "metadata": {},
   "outputs": [
    {
     "data": {
      "text/plain": [
       "(376, 2)"
      ]
     },
     "execution_count": 39,
     "metadata": {},
     "output_type": "execute_result"
    }
   ],
   "source": [
    "df_group.shape"
   ]
  },
  {
   "cell_type": "code",
   "execution_count": 40,
   "id": "02e9fbad-5f09-4826-b970-971c50d0c83a",
   "metadata": {},
   "outputs": [
    {
     "data": {
      "text/plain": [
       "date       object\n",
       "ride_id     int64\n",
       "dtype: object"
      ]
     },
     "execution_count": 40,
     "metadata": {},
     "output_type": "execute_result"
    }
   ],
   "source": [
    "df_group.dtypes"
   ]
  },
  {
   "cell_type": "code",
   "execution_count": 41,
   "id": "76eb5017-2100-40aa-8474-87d4913aa642",
   "metadata": {},
   "outputs": [],
   "source": [
    "#Before merging, I need to change the datatype of the date column in df_group to match that of df_no_dups\n",
    "#Change datatype of date column in df_group "
   ]
  },
  {
   "cell_type": "code",
   "execution_count": 42,
   "id": "6ce1322a-320e-4298-8697-6089be020571",
   "metadata": {},
   "outputs": [],
   "source": [
    "df_group['date'] = pd.to_datetime(df_group['date'])"
   ]
  },
  {
   "cell_type": "code",
   "execution_count": 43,
   "id": "5ff4bbf5-ad75-4ff1-a781-96a6f7dddd4e",
   "metadata": {},
   "outputs": [
    {
     "data": {
      "text/plain": [
       "date       datetime64[ns]\n",
       "ride_id             int64\n",
       "dtype: object"
      ]
     },
     "execution_count": 43,
     "metadata": {},
     "output_type": "execute_result"
    }
   ],
   "source": [
    "df_group.dtypes"
   ]
  },
  {
   "cell_type": "code",
   "execution_count": 44,
   "id": "afd80d40-b75a-4fce-ba87-9e7beff14051",
   "metadata": {},
   "outputs": [
    {
     "data": {
      "text/plain": [
       "date       0\n",
       "ride_id    0\n",
       "dtype: int64"
      ]
     },
     "execution_count": 44,
     "metadata": {},
     "output_type": "execute_result"
    }
   ],
   "source": [
    "#Find missing ride_id values\n",
    "\n",
    "\n",
    "df_group.isnull().sum()"
   ]
  },
  {
   "cell_type": "markdown",
   "id": "75df363b-1bca-4b6d-98d3-c4f5a358cb45",
   "metadata": {},
   "source": [
    "### Merge trip aggregations and temperatures"
   ]
  },
  {
   "cell_type": "code",
   "execution_count": 45,
   "id": "e2d2dafa-d911-474b-99e0-dc681f509c48",
   "metadata": {},
   "outputs": [],
   "source": [
    "df2 = df_no_dups.merge(df_group, on = 'date', how = 'outer')                      #Both df_no_dups & df_group have 374 values "
   ]
  },
  {
   "cell_type": "code",
   "execution_count": 46,
   "id": "2446a886-a66e-425d-98cd-53f7d86eb5d6",
   "metadata": {},
   "outputs": [],
   "source": [
    "df_temp2 = df2.set_index('date')"
   ]
  },
  {
   "cell_type": "code",
   "execution_count": 47,
   "id": "39a880e1-2c69-4b9a-9587-24dcccf94639",
   "metadata": {},
   "outputs": [],
   "source": [
    "df_datesort2 = df_temp2.sort_values(by = 'date')"
   ]
  },
  {
   "cell_type": "code",
   "execution_count": 48,
   "id": "72a6c31b-7b00-4983-bec5-3d97d331698f",
   "metadata": {},
   "outputs": [
    {
     "data": {
      "text/html": [
       "<div>\n",
       "<style scoped>\n",
       "    .dataframe tbody tr th:only-of-type {\n",
       "        vertical-align: middle;\n",
       "    }\n",
       "\n",
       "    .dataframe tbody tr th {\n",
       "        vertical-align: top;\n",
       "    }\n",
       "\n",
       "    .dataframe thead th {\n",
       "        text-align: right;\n",
       "    }\n",
       "</style>\n",
       "<table border=\"1\" class=\"dataframe\">\n",
       "  <thead>\n",
       "    <tr style=\"text-align: right;\">\n",
       "      <th></th>\n",
       "      <th>avgTemp</th>\n",
       "      <th>ride_id</th>\n",
       "    </tr>\n",
       "    <tr>\n",
       "      <th>date</th>\n",
       "      <th></th>\n",
       "      <th></th>\n",
       "    </tr>\n",
       "  </thead>\n",
       "  <tbody>\n",
       "    <tr>\n",
       "      <th>2021-03-11</th>\n",
       "      <td>NaN</td>\n",
       "      <td>1</td>\n",
       "    </tr>\n",
       "    <tr>\n",
       "      <th>2021-03-14</th>\n",
       "      <td>NaN</td>\n",
       "      <td>1</td>\n",
       "    </tr>\n",
       "    <tr>\n",
       "      <th>2021-04-30</th>\n",
       "      <td>NaN</td>\n",
       "      <td>1</td>\n",
       "    </tr>\n",
       "    <tr>\n",
       "      <th>2021-08-16</th>\n",
       "      <td>NaN</td>\n",
       "      <td>1</td>\n",
       "    </tr>\n",
       "    <tr>\n",
       "      <th>2021-11-16</th>\n",
       "      <td>NaN</td>\n",
       "      <td>1</td>\n",
       "    </tr>\n",
       "    <tr>\n",
       "      <th>2021-12-08</th>\n",
       "      <td>NaN</td>\n",
       "      <td>1</td>\n",
       "    </tr>\n",
       "    <tr>\n",
       "      <th>2021-12-19</th>\n",
       "      <td>NaN</td>\n",
       "      <td>1</td>\n",
       "    </tr>\n",
       "    <tr>\n",
       "      <th>2021-12-26</th>\n",
       "      <td>NaN</td>\n",
       "      <td>1</td>\n",
       "    </tr>\n",
       "    <tr>\n",
       "      <th>2021-12-29</th>\n",
       "      <td>NaN</td>\n",
       "      <td>1</td>\n",
       "    </tr>\n",
       "    <tr>\n",
       "      <th>2021-12-30</th>\n",
       "      <td>NaN</td>\n",
       "      <td>2</td>\n",
       "    </tr>\n",
       "  </tbody>\n",
       "</table>\n",
       "</div>"
      ],
      "text/plain": [
       "            avgTemp  ride_id\n",
       "date                        \n",
       "2021-03-11      NaN        1\n",
       "2021-03-14      NaN        1\n",
       "2021-04-30      NaN        1\n",
       "2021-08-16      NaN        1\n",
       "2021-11-16      NaN        1\n",
       "2021-12-08      NaN        1\n",
       "2021-12-19      NaN        1\n",
       "2021-12-26      NaN        1\n",
       "2021-12-29      NaN        1\n",
       "2021-12-30      NaN        2"
      ]
     },
     "execution_count": 48,
     "metadata": {},
     "output_type": "execute_result"
    }
   ],
   "source": [
    "df_datesort2.head(10)"
   ]
  },
  {
   "cell_type": "code",
   "execution_count": 49,
   "id": "2dfb1628-a3e8-4529-8513-fca71f2c95f3",
   "metadata": {},
   "outputs": [
    {
     "name": "stdout",
     "output_type": "stream",
     "text": [
      "Shape of January 1st is (4028, 16)\n",
      "Shape of January 2nd is (8571, 16)\n"
     ]
    }
   ],
   "source": [
    "print(\"Shape of January 1st is\", df[df['date'] == '2022-01-01'].shape) # Check \n",
    "print(\"Shape of January 2nd is\", df[df['date'] == '2022-01-02'].shape) # Second check"
   ]
  },
  {
   "cell_type": "code",
   "execution_count": 50,
   "id": "37c0f80c-cbaf-42a3-bf18-d6e7a80bdaf1",
   "metadata": {},
   "outputs": [],
   "source": [
    "#create subset of df_datesort2 that contains only missing values"
   ]
  },
  {
   "cell_type": "code",
   "execution_count": 51,
   "id": "4facfdc3-0d28-47a1-b62a-d97441cf13d2",
   "metadata": {},
   "outputs": [],
   "source": [
    "df_nan2 = df_datesort2[df_datesort2['avgTemp'].isnull() == True]"
   ]
  },
  {
   "cell_type": "code",
   "execution_count": 52,
   "id": "4688778c-9d89-4a00-986f-89315cb23736",
   "metadata": {},
   "outputs": [
    {
     "data": {
      "text/html": [
       "<div>\n",
       "<style scoped>\n",
       "    .dataframe tbody tr th:only-of-type {\n",
       "        vertical-align: middle;\n",
       "    }\n",
       "\n",
       "    .dataframe tbody tr th {\n",
       "        vertical-align: top;\n",
       "    }\n",
       "\n",
       "    .dataframe thead th {\n",
       "        text-align: right;\n",
       "    }\n",
       "</style>\n",
       "<table border=\"1\" class=\"dataframe\">\n",
       "  <thead>\n",
       "    <tr style=\"text-align: right;\">\n",
       "      <th></th>\n",
       "      <th>avgTemp</th>\n",
       "      <th>ride_id</th>\n",
       "    </tr>\n",
       "    <tr>\n",
       "      <th>date</th>\n",
       "      <th></th>\n",
       "      <th></th>\n",
       "    </tr>\n",
       "  </thead>\n",
       "  <tbody>\n",
       "    <tr>\n",
       "      <th>2021-03-11</th>\n",
       "      <td>NaN</td>\n",
       "      <td>1</td>\n",
       "    </tr>\n",
       "    <tr>\n",
       "      <th>2021-03-14</th>\n",
       "      <td>NaN</td>\n",
       "      <td>1</td>\n",
       "    </tr>\n",
       "    <tr>\n",
       "      <th>2021-04-30</th>\n",
       "      <td>NaN</td>\n",
       "      <td>1</td>\n",
       "    </tr>\n",
       "    <tr>\n",
       "      <th>2021-08-16</th>\n",
       "      <td>NaN</td>\n",
       "      <td>1</td>\n",
       "    </tr>\n",
       "    <tr>\n",
       "      <th>2021-11-16</th>\n",
       "      <td>NaN</td>\n",
       "      <td>1</td>\n",
       "    </tr>\n",
       "    <tr>\n",
       "      <th>2021-12-08</th>\n",
       "      <td>NaN</td>\n",
       "      <td>1</td>\n",
       "    </tr>\n",
       "    <tr>\n",
       "      <th>2021-12-19</th>\n",
       "      <td>NaN</td>\n",
       "      <td>1</td>\n",
       "    </tr>\n",
       "    <tr>\n",
       "      <th>2021-12-26</th>\n",
       "      <td>NaN</td>\n",
       "      <td>1</td>\n",
       "    </tr>\n",
       "    <tr>\n",
       "      <th>2021-12-29</th>\n",
       "      <td>NaN</td>\n",
       "      <td>1</td>\n",
       "    </tr>\n",
       "    <tr>\n",
       "      <th>2021-12-30</th>\n",
       "      <td>NaN</td>\n",
       "      <td>2</td>\n",
       "    </tr>\n",
       "    <tr>\n",
       "      <th>2021-12-31</th>\n",
       "      <td>NaN</td>\n",
       "      <td>108</td>\n",
       "    </tr>\n",
       "  </tbody>\n",
       "</table>\n",
       "</div>"
      ],
      "text/plain": [
       "            avgTemp  ride_id\n",
       "date                        \n",
       "2021-03-11      NaN        1\n",
       "2021-03-14      NaN        1\n",
       "2021-04-30      NaN        1\n",
       "2021-08-16      NaN        1\n",
       "2021-11-16      NaN        1\n",
       "2021-12-08      NaN        1\n",
       "2021-12-19      NaN        1\n",
       "2021-12-26      NaN        1\n",
       "2021-12-29      NaN        1\n",
       "2021-12-30      NaN        2\n",
       "2021-12-31      NaN      108"
      ]
     },
     "execution_count": 52,
     "metadata": {},
     "output_type": "execute_result"
    }
   ],
   "source": [
    "df_nan2"
   ]
  },
  {
   "cell_type": "code",
   "execution_count": 53,
   "id": "2685bc2f-6b6f-4be5-b466-2dc56bf0c56c",
   "metadata": {},
   "outputs": [],
   "source": [
    "#So, 9/374 temps are missing\n",
    "# What do I with the missing data? Ignore them, impute the values or remove the missing data?\n",
    "# I will remove the missing values"
   ]
  },
  {
   "cell_type": "code",
   "execution_count": 54,
   "id": "563c70e4-974d-42c1-ad00-608269531fa5",
   "metadata": {},
   "outputs": [],
   "source": [
    "#create df w/o missing avgTemps\n",
    "\n",
    "df_temp_clean2 = df_datesort2[df_datesort2['avgTemp'].isnull() == False]"
   ]
  },
  {
   "cell_type": "code",
   "execution_count": 55,
   "id": "bfad122b-1ecd-4901-ad50-2530bd1aa34d",
   "metadata": {},
   "outputs": [
    {
     "data": {
      "text/plain": [
       "(365, 2)"
      ]
     },
     "execution_count": 55,
     "metadata": {},
     "output_type": "execute_result"
    }
   ],
   "source": [
    "df_temp_clean2.shape"
   ]
  },
  {
   "cell_type": "code",
   "execution_count": null,
   "id": "1623e1f3-fcf2-43ee-a111-bff1e7df2d44",
   "metadata": {},
   "outputs": [],
   "source": []
  },
  {
   "cell_type": "markdown",
   "id": "648485da-ed44-411f-afc0-9e16fdcafa46",
   "metadata": {},
   "source": [
    "### OO approach"
   ]
  },
  {
   "cell_type": "markdown",
   "id": "016a193b-5948-4f2c-a4f8-38e07cfc0a26",
   "metadata": {},
   "source": [
    "#### Final dual plot"
   ]
  },
  {
   "cell_type": "code",
   "execution_count": 56,
   "id": "c3daaea7-d91c-4729-8054-59c128f492cb",
   "metadata": {},
   "outputs": [
    {
     "data": {
      "image/png": "[encoded data removed]",
      "text/plain": [
       "<Figure size 1000x500 with 2 Axes>"
      ]
     },
     "metadata": {},
     "output_type": "display_data"
    }
   ],
   "source": [
    "# Create figure and axis objects with subplots() and details\n",
    "\n",
    "fig,ax = plt.subplots(figsize=(10, 5))\n",
    "\n",
    "# Make a plot of the bike rides\n",
    "ax.plot(df_temp_clean2['ride_id'],color = \"navy\")\n",
    "ax.set_xlabel(\"Year 2022\", fontsize = 14) # set x-axis label\n",
    "ax.set_ylabel(\"Bike rides daily\",color = \"navy\", fontsize = 14) # set y-axis label\n",
    "\n",
    "# Here is where we create the dual axis - initialize a twin object for two different y-axis on the sample plot\n",
    "ax2 = ax.twinx()\n",
    "\n",
    "# Make a plot with the temperatues on the y-axis using second axis object\n",
    "ax2.plot(df_temp_clean2[\"avgTemp\"], color = \"red\")\n",
    "ax2.set_ylabel(\"Average temperatures\", color = \"red\",fontsize=14)\n",
    "plt.title('Temperature and trips in 2022', fontsize = 18)\n",
    "plt.show()"
   ]
  },
  {
   "cell_type": "markdown",
   "id": "f4b57611-4deb-42ab-bf44-34f2f433683b",
   "metadata": {},
   "source": [
    "## #I used the object-oriented programming approach. First, I greated a graph of daily bike rides. Then, I made a dual axis for the avg temp graph."
   ]
  },
  {
   "cell_type": "code",
   "execution_count": 57,
   "id": "7f5a49f2-14ed-496f-ae2f-26d450b3df2c",
   "metadata": {},
   "outputs": [],
   "source": [
    "# save the plot as a file\n",
    "fig.savefig('trips_temperatures_dual_line.jpg',\n",
    "            format='jpeg',\n",
    "            dpi=100,\n",
    "            bbox_inches='tight')\n"
   ]
  },
  {
   "cell_type": "markdown",
   "id": "dd1e77bc-3d8b-4eb4-b227-a5537e6091dd",
   "metadata": {},
   "source": [
    "### Export the df"
   ]
  },
  {
   "cell_type": "code",
   "execution_count": 58,
   "id": "8204861a-d55f-4149-b930-4b3f3edbc746",
   "metadata": {},
   "outputs": [],
   "source": [
    "#path = r'C:\\Users\\Barb\\CitiBike'"
   ]
  },
  {
   "cell_type": "code",
   "execution_count": 59,
   "id": "4548f3be-c7f0-4d6a-b902-e2f232e9970b",
   "metadata": {},
   "outputs": [],
   "source": [
    "#df_temp_clean2.to_csv(os.path.join(path,'02Data', 'Prepared', 'NY_data_sample_2-3.csv'))"
   ]
  }
 ],
 "metadata": {
  "kernelspec": {
   "display_name": "Python 3 (ipykernel)",
   "language": "python",
   "name": "python3"
  },
  "language_info": {
   "codemirror_mode": {
    "name": "ipython",
    "version": 3
   },
   "file_extension": ".py",
   "mimetype": "text/x-python",
   "name": "python",
   "nbconvert_exporter": "python",
   "pygments_lexer": "ipython3",
   "version": "3.12.7"
  }
 },
 "nbformat": 4,
 "nbformat_minor": 5
}
