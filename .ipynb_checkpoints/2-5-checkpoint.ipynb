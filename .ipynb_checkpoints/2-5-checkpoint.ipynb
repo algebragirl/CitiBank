{
 "cells": [
  {
   "cell_type": "markdown",
   "id": "4610c53d-2674-42f1-9b61-36dd0b7ac37a",
   "metadata": {},
   "source": [
    "# E5 Advanced geospatial plotting "
   ]
  },
  {
   "cell_type": "code",
   "execution_count": 1,
   "id": "29165bf8",
   "metadata": {
    "tags": []
   },
   "outputs": [],
   "source": [
    "import pandas as pd\n",
    "import os\n",
    "from keplergl import KeplerGl\n",
    "from pyproj import CRS\n",
    "import numpy as np\n",
    "from matplotlib import pyplot as plt"
   ]
  },
  {
   "cell_type": "code",
   "execution_count": 2,
   "id": "32d27156-e4bb-447f-ba80-ec051613128f",
   "metadata": {},
   "outputs": [
    {
     "name": "stderr",
     "output_type": "stream",
     "text": [
      "C:\\Users\\Barb\\AppData\\Local\\Temp\\ipykernel_10004\\1702794093.py:3: DtypeWarning: Columns (6,8) have mixed types. Specify dtype option on import or set low_memory=False.\n",
      "  df = pd.read_csv('NY_data_sample.csv', index_col = 0)\n"
     ]
    }
   ],
   "source": [
    "#import data\n",
    "\n",
    "df = pd.read_csv('NY_data_sample.csv', index_col = 0)"
   ]
  },
  {
   "cell_type": "code",
   "execution_count": 3,
   "id": "23b47652-9f69-45de-a5c8-ef52f6322d15",
   "metadata": {},
   "outputs": [],
   "source": [
    "#Remove unnecessary columns\n",
    "#Only need ['start_station_name'], ['end_station_name'], and ['value']"
   ]
  },
  {
   "cell_type": "code",
   "execution_count": 4,
   "id": "9ae382a8-fffa-4290-b7fd-2873ea96b208",
   "metadata": {},
   "outputs": [
    {
     "data": {
      "text/plain": [
       "Index(['ride_id', 'rideable_type', 'started_at', 'ended_at',\n",
       "       'start_station_name', 'start_station_id', 'end_station_name',\n",
       "       'end_station_id', 'start_lat', 'start_lng', 'end_lat', 'end_lng',\n",
       "       'member_casual', 'date', 'avgTemp', '_merge'],\n",
       "      dtype='object')"
      ]
     },
     "execution_count": 4,
     "metadata": {},
     "output_type": "execute_result"
    }
   ],
   "source": [
    "df.columns"
   ]
  },
  {
   "cell_type": "code",
   "execution_count": 5,
   "id": "792cba7e-e210-48ce-8cbd-4fd319f1b64d",
   "metadata": {},
   "outputs": [],
   "source": [
    "df_drop_col = df.drop(columns = ['_merge', 'ride_id', 'rideable_type', 'started_at', 'ended_at', 'start_station_id', 'end_station_id', 'member_casual', 'date', 'avgTemp'])"
   ]
  },
  {
   "cell_type": "code",
   "execution_count": 6,
   "id": "1c0a62be-97cc-4017-b42e-e59401d0c244",
   "metadata": {},
   "outputs": [
    {
     "data": {
      "text/html": [
       "<div>\n",
       "<style scoped>\n",
       "    .dataframe tbody tr th:only-of-type {\n",
       "        vertical-align: middle;\n",
       "    }\n",
       "\n",
       "    .dataframe tbody tr th {\n",
       "        vertical-align: top;\n",
       "    }\n",
       "\n",
       "    .dataframe thead th {\n",
       "        text-align: right;\n",
       "    }\n",
       "</style>\n",
       "<table border=\"1\" class=\"dataframe\">\n",
       "  <thead>\n",
       "    <tr style=\"text-align: right;\">\n",
       "      <th></th>\n",
       "      <th>start_station_name</th>\n",
       "      <th>end_station_name</th>\n",
       "      <th>start_lat</th>\n",
       "      <th>start_lng</th>\n",
       "      <th>end_lat</th>\n",
       "      <th>end_lng</th>\n",
       "    </tr>\n",
       "  </thead>\n",
       "  <tbody>\n",
       "    <tr>\n",
       "      <th>25092672</th>\n",
       "      <td>Beaver St &amp; Fayette St</td>\n",
       "      <td>Beaver St &amp; Fayette St</td>\n",
       "      <td>40.700993</td>\n",
       "      <td>-73.939164</td>\n",
       "      <td>40.700990</td>\n",
       "      <td>-73.939210</td>\n",
       "    </tr>\n",
       "    <tr>\n",
       "      <th>850261</th>\n",
       "      <td>E 53 St &amp; Madison Ave</td>\n",
       "      <td>E 84 St &amp; 1 Ave</td>\n",
       "      <td>40.759711</td>\n",
       "      <td>-73.974023</td>\n",
       "      <td>40.775655</td>\n",
       "      <td>-73.950686</td>\n",
       "    </tr>\n",
       "    <tr>\n",
       "      <th>25461273</th>\n",
       "      <td>Lafayette St &amp; E 8 St</td>\n",
       "      <td>W 15 St &amp; 7 Ave</td>\n",
       "      <td>40.730207</td>\n",
       "      <td>-73.991026</td>\n",
       "      <td>40.739355</td>\n",
       "      <td>-73.999318</td>\n",
       "    </tr>\n",
       "    <tr>\n",
       "      <th>8836007</th>\n",
       "      <td>1 Ave &amp; E 68 St</td>\n",
       "      <td>27 St &amp; Hunter St</td>\n",
       "      <td>40.765005</td>\n",
       "      <td>-73.958185</td>\n",
       "      <td>40.748500</td>\n",
       "      <td>-73.941275</td>\n",
       "    </tr>\n",
       "    <tr>\n",
       "      <th>20383470</th>\n",
       "      <td>Carroll St &amp; Columbia St</td>\n",
       "      <td>Congress St &amp; Hicks St</td>\n",
       "      <td>40.683046</td>\n",
       "      <td>-74.003486</td>\n",
       "      <td>40.689395</td>\n",
       "      <td>-73.999513</td>\n",
       "    </tr>\n",
       "  </tbody>\n",
       "</table>\n",
       "</div>"
      ],
      "text/plain": [
       "                start_station_name        end_station_name  start_lat  \\\n",
       "25092672    Beaver St & Fayette St  Beaver St & Fayette St  40.700993   \n",
       "850261       E 53 St & Madison Ave         E 84 St & 1 Ave  40.759711   \n",
       "25461273     Lafayette St & E 8 St         W 15 St & 7 Ave  40.730207   \n",
       "8836007            1 Ave & E 68 St       27 St & Hunter St  40.765005   \n",
       "20383470  Carroll St & Columbia St  Congress St & Hicks St  40.683046   \n",
       "\n",
       "          start_lng    end_lat    end_lng  \n",
       "25092672 -73.939164  40.700990 -73.939210  \n",
       "850261   -73.974023  40.775655 -73.950686  \n",
       "25461273 -73.991026  40.739355 -73.999318  \n",
       "8836007  -73.958185  40.748500 -73.941275  \n",
       "20383470 -74.003486  40.689395 -73.999513  "
      ]
     },
     "execution_count": 6,
     "metadata": {},
     "output_type": "execute_result"
    }
   ],
   "source": [
    "df_drop_col.head()"
   ]
  },
  {
   "cell_type": "code",
   "execution_count": 7,
   "id": "0df5c591-2995-45af-a752-12b066c4ef25",
   "metadata": {},
   "outputs": [],
   "source": [
    "df_location=df_drop_col.drop_duplicates(subset=['start_station_name','end_station_name'])"
   ]
  },
  {
   "cell_type": "code",
   "execution_count": 8,
   "id": "414bb3f3-dc8a-480e-8f6d-9327f45d0b6b",
   "metadata": {},
   "outputs": [
    {
     "data": {
      "text/html": [
       "<div>\n",
       "<style scoped>\n",
       "    .dataframe tbody tr th:only-of-type {\n",
       "        vertical-align: middle;\n",
       "    }\n",
       "\n",
       "    .dataframe tbody tr th {\n",
       "        vertical-align: top;\n",
       "    }\n",
       "\n",
       "    .dataframe thead th {\n",
       "        text-align: right;\n",
       "    }\n",
       "</style>\n",
       "<table border=\"1\" class=\"dataframe\">\n",
       "  <thead>\n",
       "    <tr style=\"text-align: right;\">\n",
       "      <th></th>\n",
       "      <th>start_station_name</th>\n",
       "      <th>end_station_name</th>\n",
       "      <th>start_lat</th>\n",
       "      <th>start_lng</th>\n",
       "      <th>end_lat</th>\n",
       "      <th>end_lng</th>\n",
       "    </tr>\n",
       "  </thead>\n",
       "  <tbody>\n",
       "    <tr>\n",
       "      <th>25092672</th>\n",
       "      <td>Beaver St &amp; Fayette St</td>\n",
       "      <td>Beaver St &amp; Fayette St</td>\n",
       "      <td>40.700993</td>\n",
       "      <td>-73.939164</td>\n",
       "      <td>40.700990</td>\n",
       "      <td>-73.939210</td>\n",
       "    </tr>\n",
       "    <tr>\n",
       "      <th>850261</th>\n",
       "      <td>E 53 St &amp; Madison Ave</td>\n",
       "      <td>E 84 St &amp; 1 Ave</td>\n",
       "      <td>40.759711</td>\n",
       "      <td>-73.974023</td>\n",
       "      <td>40.775655</td>\n",
       "      <td>-73.950686</td>\n",
       "    </tr>\n",
       "    <tr>\n",
       "      <th>25461273</th>\n",
       "      <td>Lafayette St &amp; E 8 St</td>\n",
       "      <td>W 15 St &amp; 7 Ave</td>\n",
       "      <td>40.730207</td>\n",
       "      <td>-73.991026</td>\n",
       "      <td>40.739355</td>\n",
       "      <td>-73.999318</td>\n",
       "    </tr>\n",
       "    <tr>\n",
       "      <th>8836007</th>\n",
       "      <td>1 Ave &amp; E 68 St</td>\n",
       "      <td>27 St &amp; Hunter St</td>\n",
       "      <td>40.765005</td>\n",
       "      <td>-73.958185</td>\n",
       "      <td>40.748500</td>\n",
       "      <td>-73.941275</td>\n",
       "    </tr>\n",
       "    <tr>\n",
       "      <th>20383470</th>\n",
       "      <td>Carroll St &amp; Columbia St</td>\n",
       "      <td>Congress St &amp; Hicks St</td>\n",
       "      <td>40.683046</td>\n",
       "      <td>-74.003486</td>\n",
       "      <td>40.689395</td>\n",
       "      <td>-73.999513</td>\n",
       "    </tr>\n",
       "    <tr>\n",
       "      <th>...</th>\n",
       "      <td>...</td>\n",
       "      <td>...</td>\n",
       "      <td>...</td>\n",
       "      <td>...</td>\n",
       "      <td>...</td>\n",
       "      <td>...</td>\n",
       "    </tr>\n",
       "    <tr>\n",
       "      <th>17419005</th>\n",
       "      <td>Hazen St &amp; 20 Ave</td>\n",
       "      <td>Willis Ave &amp; Bruckner Blvd</td>\n",
       "      <td>40.772092</td>\n",
       "      <td>-73.895166</td>\n",
       "      <td>40.805701</td>\n",
       "      <td>-73.925177</td>\n",
       "    </tr>\n",
       "    <tr>\n",
       "      <th>1781890</th>\n",
       "      <td>4 Ave &amp; 3 St</td>\n",
       "      <td>2 Ave &amp; E 96 St</td>\n",
       "      <td>40.673746</td>\n",
       "      <td>-73.985649</td>\n",
       "      <td>40.783964</td>\n",
       "      <td>-73.947167</td>\n",
       "    </tr>\n",
       "    <tr>\n",
       "      <th>20770900</th>\n",
       "      <td>Vernon Blvd &amp; 50 Ave</td>\n",
       "      <td>Tompkins Ave &amp; Hopkins St</td>\n",
       "      <td>40.742327</td>\n",
       "      <td>-73.954117</td>\n",
       "      <td>40.699576</td>\n",
       "      <td>-73.947084</td>\n",
       "    </tr>\n",
       "    <tr>\n",
       "      <th>12158838</th>\n",
       "      <td>12 Ave &amp; W 125 St</td>\n",
       "      <td>E 81 St &amp; Park Ave</td>\n",
       "      <td>40.818299</td>\n",
       "      <td>-73.960405</td>\n",
       "      <td>40.776777</td>\n",
       "      <td>-73.959010</td>\n",
       "    </tr>\n",
       "    <tr>\n",
       "      <th>2981383</th>\n",
       "      <td>Bedford Ave &amp; Nassau Ave</td>\n",
       "      <td>W 37 St &amp; 5 Ave</td>\n",
       "      <td>40.723117</td>\n",
       "      <td>-73.952123</td>\n",
       "      <td>40.750380</td>\n",
       "      <td>-73.983390</td>\n",
       "    </tr>\n",
       "  </tbody>\n",
       "</table>\n",
       "<p>615658 rows × 6 columns</p>\n",
       "</div>"
      ],
      "text/plain": [
       "                start_station_name            end_station_name  start_lat  \\\n",
       "25092672    Beaver St & Fayette St      Beaver St & Fayette St  40.700993   \n",
       "850261       E 53 St & Madison Ave             E 84 St & 1 Ave  40.759711   \n",
       "25461273     Lafayette St & E 8 St             W 15 St & 7 Ave  40.730207   \n",
       "8836007            1 Ave & E 68 St           27 St & Hunter St  40.765005   \n",
       "20383470  Carroll St & Columbia St      Congress St & Hicks St  40.683046   \n",
       "...                            ...                         ...        ...   \n",
       "17419005         Hazen St & 20 Ave  Willis Ave & Bruckner Blvd  40.772092   \n",
       "1781890               4 Ave & 3 St             2 Ave & E 96 St  40.673746   \n",
       "20770900      Vernon Blvd & 50 Ave   Tompkins Ave & Hopkins St  40.742327   \n",
       "12158838         12 Ave & W 125 St          E 81 St & Park Ave  40.818299   \n",
       "2981383   Bedford Ave & Nassau Ave             W 37 St & 5 Ave  40.723117   \n",
       "\n",
       "          start_lng    end_lat    end_lng  \n",
       "25092672 -73.939164  40.700990 -73.939210  \n",
       "850261   -73.974023  40.775655 -73.950686  \n",
       "25461273 -73.991026  40.739355 -73.999318  \n",
       "8836007  -73.958185  40.748500 -73.941275  \n",
       "20383470 -74.003486  40.689395 -73.999513  \n",
       "...             ...        ...        ...  \n",
       "17419005 -73.895166  40.805701 -73.925177  \n",
       "1781890  -73.985649  40.783964 -73.947167  \n",
       "20770900 -73.954117  40.699576 -73.947084  \n",
       "12158838 -73.960405  40.776777 -73.959010  \n",
       "2981383  -73.952123  40.750380 -73.983390  \n",
       "\n",
       "[615658 rows x 6 columns]"
      ]
     },
     "execution_count": 8,
     "metadata": {},
     "output_type": "execute_result"
    }
   ],
   "source": [
    "df_location"
   ]
  },
  {
   "cell_type": "markdown",
   "id": "068fbca1-8036-41b5-ae4a-df7dddc5560c",
   "metadata": {
    "tags": []
   },
   "source": [
    "## Data preprocessing"
   ]
  },
  {
   "cell_type": "code",
   "execution_count": 9,
   "id": "c2f1cba7-547d-423c-818a-7056f1ab160a",
   "metadata": {},
   "outputs": [],
   "source": [
    "# Create a value column and group by start and end station \n",
    "\n",
    "df['value'] = 1\n",
    "df_group = df.groupby(['start_station_name', 'end_station_name'])['value'].count().reset_index()"
   ]
  },
  {
   "cell_type": "code",
   "execution_count": 10,
   "id": "3da9bfa3-28b2-47f7-854b-73b83e946fdf",
   "metadata": {
    "jupyter": {
     "source_hidden": true
    }
   },
   "outputs": [
    {
     "data": {
      "text/html": [
       "<div>\n",
       "<style scoped>\n",
       "    .dataframe tbody tr th:only-of-type {\n",
       "        vertical-align: middle;\n",
       "    }\n",
       "\n",
       "    .dataframe tbody tr th {\n",
       "        vertical-align: top;\n",
       "    }\n",
       "\n",
       "    .dataframe thead th {\n",
       "        text-align: right;\n",
       "    }\n",
       "</style>\n",
       "<table border=\"1\" class=\"dataframe\">\n",
       "  <thead>\n",
       "    <tr style=\"text-align: right;\">\n",
       "      <th></th>\n",
       "      <th>start_station_name</th>\n",
       "      <th>end_station_name</th>\n",
       "      <th>value</th>\n",
       "    </tr>\n",
       "  </thead>\n",
       "  <tbody>\n",
       "    <tr>\n",
       "      <th>0</th>\n",
       "      <td>1 Ave &amp; E 110 St</td>\n",
       "      <td>1 Ave &amp; E 110 St</td>\n",
       "      <td>148</td>\n",
       "    </tr>\n",
       "    <tr>\n",
       "      <th>1</th>\n",
       "      <td>1 Ave &amp; E 110 St</td>\n",
       "      <td>1 Ave &amp; E 18 St</td>\n",
       "      <td>1</td>\n",
       "    </tr>\n",
       "    <tr>\n",
       "      <th>2</th>\n",
       "      <td>1 Ave &amp; E 110 St</td>\n",
       "      <td>1 Ave &amp; E 30 St</td>\n",
       "      <td>1</td>\n",
       "    </tr>\n",
       "    <tr>\n",
       "      <th>3</th>\n",
       "      <td>1 Ave &amp; E 110 St</td>\n",
       "      <td>1 Ave &amp; E 44 St</td>\n",
       "      <td>1</td>\n",
       "    </tr>\n",
       "    <tr>\n",
       "      <th>4</th>\n",
       "      <td>1 Ave &amp; E 110 St</td>\n",
       "      <td>1 Ave &amp; E 62 St</td>\n",
       "      <td>3</td>\n",
       "    </tr>\n",
       "    <tr>\n",
       "      <th>...</th>\n",
       "      <td>...</td>\n",
       "      <td>...</td>\n",
       "      <td>...</td>\n",
       "    </tr>\n",
       "    <tr>\n",
       "      <th>614073</th>\n",
       "      <td>Yankee Ferry Terminal</td>\n",
       "      <td>W 12 St &amp; Hudson St</td>\n",
       "      <td>1</td>\n",
       "    </tr>\n",
       "    <tr>\n",
       "      <th>614074</th>\n",
       "      <td>Yankee Ferry Terminal</td>\n",
       "      <td>W 30 St &amp; 10 Ave</td>\n",
       "      <td>1</td>\n",
       "    </tr>\n",
       "    <tr>\n",
       "      <th>614075</th>\n",
       "      <td>Yankee Ferry Terminal</td>\n",
       "      <td>Water St &amp;  Fletcher St</td>\n",
       "      <td>3</td>\n",
       "    </tr>\n",
       "    <tr>\n",
       "      <th>614076</th>\n",
       "      <td>Yankee Ferry Terminal</td>\n",
       "      <td>West St &amp; Liberty St</td>\n",
       "      <td>1</td>\n",
       "    </tr>\n",
       "    <tr>\n",
       "      <th>614077</th>\n",
       "      <td>Yankee Ferry Terminal</td>\n",
       "      <td>Yankee Ferry Terminal</td>\n",
       "      <td>1125</td>\n",
       "    </tr>\n",
       "  </tbody>\n",
       "</table>\n",
       "<p>614078 rows × 3 columns</p>\n",
       "</div>"
      ],
      "text/plain": [
       "           start_station_name         end_station_name  value\n",
       "0            1 Ave & E 110 St         1 Ave & E 110 St    148\n",
       "1            1 Ave & E 110 St          1 Ave & E 18 St      1\n",
       "2            1 Ave & E 110 St          1 Ave & E 30 St      1\n",
       "3            1 Ave & E 110 St          1 Ave & E 44 St      1\n",
       "4            1 Ave & E 110 St          1 Ave & E 62 St      3\n",
       "...                       ...                      ...    ...\n",
       "614073  Yankee Ferry Terminal      W 12 St & Hudson St      1\n",
       "614074  Yankee Ferry Terminal         W 30 St & 10 Ave      1\n",
       "614075  Yankee Ferry Terminal  Water St &  Fletcher St      3\n",
       "614076  Yankee Ferry Terminal     West St & Liberty St      1\n",
       "614077  Yankee Ferry Terminal    Yankee Ferry Terminal   1125\n",
       "\n",
       "[614078 rows x 3 columns]"
      ]
     },
     "execution_count": 10,
     "metadata": {},
     "output_type": "execute_result"
    }
   ],
   "source": [
    "df_group"
   ]
  },
  {
   "cell_type": "code",
   "execution_count": 11,
   "id": "654b9f02-249c-42a3-b47f-5411c84cd493",
   "metadata": {},
   "outputs": [],
   "source": [
    "df_group=df_group.merge(df_location,on=['start_station_name', 'end_station_name'], how= 'inner')"
   ]
  },
  {
   "cell_type": "code",
   "execution_count": 12,
   "id": "6eee0ddc-b553-464d-929f-f98298b8ab65",
   "metadata": {},
   "outputs": [
    {
     "data": {
      "text/html": [
       "<div>\n",
       "<style scoped>\n",
       "    .dataframe tbody tr th:only-of-type {\n",
       "        vertical-align: middle;\n",
       "    }\n",
       "\n",
       "    .dataframe tbody tr th {\n",
       "        vertical-align: top;\n",
       "    }\n",
       "\n",
       "    .dataframe thead th {\n",
       "        text-align: right;\n",
       "    }\n",
       "</style>\n",
       "<table border=\"1\" class=\"dataframe\">\n",
       "  <thead>\n",
       "    <tr style=\"text-align: right;\">\n",
       "      <th></th>\n",
       "      <th>start_station_name</th>\n",
       "      <th>end_station_name</th>\n",
       "      <th>value</th>\n",
       "      <th>start_lat</th>\n",
       "      <th>start_lng</th>\n",
       "      <th>end_lat</th>\n",
       "      <th>end_lng</th>\n",
       "    </tr>\n",
       "  </thead>\n",
       "  <tbody>\n",
       "    <tr>\n",
       "      <th>0</th>\n",
       "      <td>1 Ave &amp; E 110 St</td>\n",
       "      <td>1 Ave &amp; E 110 St</td>\n",
       "      <td>148</td>\n",
       "      <td>40.792327</td>\n",
       "      <td>-73.938300</td>\n",
       "      <td>40.792327</td>\n",
       "      <td>-73.938300</td>\n",
       "    </tr>\n",
       "    <tr>\n",
       "      <th>1</th>\n",
       "      <td>1 Ave &amp; E 110 St</td>\n",
       "      <td>1 Ave &amp; E 18 St</td>\n",
       "      <td>1</td>\n",
       "      <td>40.792327</td>\n",
       "      <td>-73.938300</td>\n",
       "      <td>40.733812</td>\n",
       "      <td>-73.980544</td>\n",
       "    </tr>\n",
       "    <tr>\n",
       "      <th>2</th>\n",
       "      <td>1 Ave &amp; E 110 St</td>\n",
       "      <td>1 Ave &amp; E 30 St</td>\n",
       "      <td>1</td>\n",
       "      <td>40.792393</td>\n",
       "      <td>-73.938230</td>\n",
       "      <td>40.741444</td>\n",
       "      <td>-73.975361</td>\n",
       "    </tr>\n",
       "    <tr>\n",
       "      <th>3</th>\n",
       "      <td>1 Ave &amp; E 110 St</td>\n",
       "      <td>1 Ave &amp; E 44 St</td>\n",
       "      <td>1</td>\n",
       "      <td>40.792327</td>\n",
       "      <td>-73.938300</td>\n",
       "      <td>40.750020</td>\n",
       "      <td>-73.969053</td>\n",
       "    </tr>\n",
       "    <tr>\n",
       "      <th>4</th>\n",
       "      <td>1 Ave &amp; E 110 St</td>\n",
       "      <td>1 Ave &amp; E 62 St</td>\n",
       "      <td>3</td>\n",
       "      <td>40.792327</td>\n",
       "      <td>-73.938300</td>\n",
       "      <td>40.761227</td>\n",
       "      <td>-73.960940</td>\n",
       "    </tr>\n",
       "    <tr>\n",
       "      <th>...</th>\n",
       "      <td>...</td>\n",
       "      <td>...</td>\n",
       "      <td>...</td>\n",
       "      <td>...</td>\n",
       "      <td>...</td>\n",
       "      <td>...</td>\n",
       "      <td>...</td>\n",
       "    </tr>\n",
       "    <tr>\n",
       "      <th>614073</th>\n",
       "      <td>Yankee Ferry Terminal</td>\n",
       "      <td>W 12 St &amp; Hudson St</td>\n",
       "      <td>1</td>\n",
       "      <td>40.687066</td>\n",
       "      <td>-74.016756</td>\n",
       "      <td>40.737530</td>\n",
       "      <td>-74.005589</td>\n",
       "    </tr>\n",
       "    <tr>\n",
       "      <th>614074</th>\n",
       "      <td>Yankee Ferry Terminal</td>\n",
       "      <td>W 30 St &amp; 10 Ave</td>\n",
       "      <td>1</td>\n",
       "      <td>40.687066</td>\n",
       "      <td>-74.016756</td>\n",
       "      <td>40.752694</td>\n",
       "      <td>-74.002353</td>\n",
       "    </tr>\n",
       "    <tr>\n",
       "      <th>614075</th>\n",
       "      <td>Yankee Ferry Terminal</td>\n",
       "      <td>Water St &amp;  Fletcher St</td>\n",
       "      <td>3</td>\n",
       "      <td>40.687066</td>\n",
       "      <td>-74.016756</td>\n",
       "      <td>40.706411</td>\n",
       "      <td>-74.005597</td>\n",
       "    </tr>\n",
       "    <tr>\n",
       "      <th>614076</th>\n",
       "      <td>Yankee Ferry Terminal</td>\n",
       "      <td>West St &amp; Liberty St</td>\n",
       "      <td>1</td>\n",
       "      <td>40.687066</td>\n",
       "      <td>-74.016756</td>\n",
       "      <td>40.711444</td>\n",
       "      <td>-74.014847</td>\n",
       "    </tr>\n",
       "    <tr>\n",
       "      <th>614077</th>\n",
       "      <td>Yankee Ferry Terminal</td>\n",
       "      <td>Yankee Ferry Terminal</td>\n",
       "      <td>1125</td>\n",
       "      <td>40.687066</td>\n",
       "      <td>-74.016756</td>\n",
       "      <td>40.687066</td>\n",
       "      <td>-74.016756</td>\n",
       "    </tr>\n",
       "  </tbody>\n",
       "</table>\n",
       "<p>614078 rows × 7 columns</p>\n",
       "</div>"
      ],
      "text/plain": [
       "           start_station_name         end_station_name  value  start_lat  \\\n",
       "0            1 Ave & E 110 St         1 Ave & E 110 St    148  40.792327   \n",
       "1            1 Ave & E 110 St          1 Ave & E 18 St      1  40.792327   \n",
       "2            1 Ave & E 110 St          1 Ave & E 30 St      1  40.792393   \n",
       "3            1 Ave & E 110 St          1 Ave & E 44 St      1  40.792327   \n",
       "4            1 Ave & E 110 St          1 Ave & E 62 St      3  40.792327   \n",
       "...                       ...                      ...    ...        ...   \n",
       "614073  Yankee Ferry Terminal      W 12 St & Hudson St      1  40.687066   \n",
       "614074  Yankee Ferry Terminal         W 30 St & 10 Ave      1  40.687066   \n",
       "614075  Yankee Ferry Terminal  Water St &  Fletcher St      3  40.687066   \n",
       "614076  Yankee Ferry Terminal     West St & Liberty St      1  40.687066   \n",
       "614077  Yankee Ferry Terminal    Yankee Ferry Terminal   1125  40.687066   \n",
       "\n",
       "        start_lng    end_lat    end_lng  \n",
       "0      -73.938300  40.792327 -73.938300  \n",
       "1      -73.938300  40.733812 -73.980544  \n",
       "2      -73.938230  40.741444 -73.975361  \n",
       "3      -73.938300  40.750020 -73.969053  \n",
       "4      -73.938300  40.761227 -73.960940  \n",
       "...           ...        ...        ...  \n",
       "614073 -74.016756  40.737530 -74.005589  \n",
       "614074 -74.016756  40.752694 -74.002353  \n",
       "614075 -74.016756  40.706411 -74.005597  \n",
       "614076 -74.016756  40.711444 -74.014847  \n",
       "614077 -74.016756  40.687066 -74.016756  \n",
       "\n",
       "[614078 rows x 7 columns]"
      ]
     },
     "execution_count": 12,
     "metadata": {},
     "output_type": "execute_result"
    }
   ],
   "source": [
    "df_group"
   ]
  },
  {
   "cell_type": "code",
   "execution_count": 13,
   "id": "14118743-d51b-4f05-a3d1-d66ea0e0745d",
   "metadata": {},
   "outputs": [],
   "source": [
    "df_group.rename(columns = {'start_station_name':'starting_station','end_station_name' : 'ending_station',\n",
    "                          'value': 'count_of_trips'}, inplace = True)"
   ]
  },
  {
   "cell_type": "code",
   "execution_count": 14,
   "id": "a3d231a6-7351-4a3f-a102-90f71ecfb38f",
   "metadata": {},
   "outputs": [
    {
     "name": "stdout",
     "output_type": "stream",
     "text": [
      "5953849\n"
     ]
    },
    {
     "data": {
      "text/plain": [
       "(5967761, 17)"
      ]
     },
     "execution_count": 14,
     "metadata": {},
     "output_type": "execute_result"
    }
   ],
   "source": [
    "print(df_group['count_of_trips'].sum())\n",
    "df.shape"
   ]
  },
  {
   "cell_type": "code",
   "execution_count": 15,
   "id": "ace8d5db-3d51-483f-b063-ab6122e23b99",
   "metadata": {},
   "outputs": [
    {
     "data": {
      "text/plain": [
       "count    614078.000000\n",
       "mean          9.695591\n",
       "std          24.898340\n",
       "min           1.000000\n",
       "25%           1.000000\n",
       "50%           2.000000\n",
       "75%           8.000000\n",
       "max        2328.000000\n",
       "Name: count_of_trips, dtype: float64"
      ]
     },
     "execution_count": 15,
     "metadata": {},
     "output_type": "execute_result"
    }
   ],
   "source": [
    "df_group['count_of_trips'].describe()"
   ]
  },
  {
   "cell_type": "markdown",
   "id": "391583d9-7240-4d9f-a6eb-ec799b53a75b",
   "metadata": {},
   "source": [
    "### Some exploratory analysis into the trips"
   ]
  },
  {
   "cell_type": "code",
   "execution_count": 16,
   "id": "13292b08-2b4a-4d4e-adbd-be00f6c331c8",
   "metadata": {},
   "outputs": [
    {
     "data": {
      "image/png": "[encoded data removed]",
      "text/plain": [
       "<Figure size 640x480 with 1 Axes>"
      ]
     },
     "metadata": {},
     "output_type": "display_data"
    }
   ],
   "source": [
    "df_group['count_of_trips'].hist(bins = 100)\n",
    "plt.show()"
   ]
  },
  {
   "cell_type": "code",
   "execution_count": 17,
   "id": "74bf1084-360a-49b7-9a66-8ded659e2df7",
   "metadata": {},
   "outputs": [
    {
     "data": {
      "text/plain": [
       "[]"
      ]
     },
     "execution_count": 17,
     "metadata": {},
     "output_type": "execute_result"
    },
    {
     "data": {
      "image/png": "[encoded data removed]",
      "text/plain": [
       "<Figure size 640x480 with 1 Axes>"
      ]
     },
     "metadata": {},
     "output_type": "display_data"
    }
   ],
   "source": [
    "b_plot = df_group.boxplot(column = 'count_of_trips') \n",
    "b_plot.plot()"
   ]
  },
  {
   "cell_type": "code",
   "execution_count": 18,
   "id": "8dfacb41-27dc-450e-bdf7-7a280d457160",
   "metadata": {},
   "outputs": [],
   "source": [
    "df_group_sort = df_group['count_of_trips'].sort_index().value_counts()"
   ]
  },
  {
   "cell_type": "code",
   "execution_count": 19,
   "id": "c295c21d-81da-4640-a4b9-2df6e228e651",
   "metadata": {},
   "outputs": [
    {
     "data": {
      "text/plain": [
       "count_of_trips\n",
       "1    219248\n",
       "2     88821\n",
       "3     51223\n",
       "4     34563\n",
       "5     25579\n",
       "Name: count, dtype: int64"
      ]
     },
     "execution_count": 19,
     "metadata": {},
     "output_type": "execute_result"
    }
   ],
   "source": [
    "df_group_sort.head()"
   ]
  },
  {
   "cell_type": "code",
   "execution_count": 20,
   "id": "906d2cce-b823-4176-b123-d4d11ffb4e06",
   "metadata": {
    "scrolled": true
   },
   "outputs": [],
   "source": [
    "df_group_plot = df_group.nlargest(n=10000, columns='count_of_trips')"
   ]
  },
  {
   "cell_type": "code",
   "execution_count": 21,
   "id": "b30a1ff4-a70b-42cc-b964-86d6736e0d7b",
   "metadata": {},
   "outputs": [],
   "source": [
    "df_group_plot.to_csv('df_group_plot.csv')"
   ]
  },
  {
   "cell_type": "markdown",
   "id": "bac573ed-a47c-4522-a066-02dbd483a143",
   "metadata": {},
   "source": [
    "## PLot the map"
   ]
  },
  {
   "cell_type": "code",
   "execution_count": 22,
   "id": "aad1c479-1b94-4af9-b85e-e382c38b397f",
   "metadata": {
    "scrolled": true
   },
   "outputs": [],
   "source": [
    "# Create KeplerGl instance\n",
    "\n",
    "#m = KeplerGl(height = 700, data={\"data_1\": df_group_plot})\n",
    "#m"
   ]
  },
  {
   "cell_type": "code",
   "execution_count": 23,
   "id": "47e4e38f-6ef2-47d2-aeec-8bedea2a5a4c",
   "metadata": {
    "tags": []
   },
   "outputs": [],
   "source": [
    "#config = m.config"
   ]
  },
  {
   "cell_type": "code",
   "execution_count": 24,
   "id": "2c185e31-b3d6-48a0-97da-80949dae80c5",
   "metadata": {
    "tags": []
   },
   "outputs": [],
   "source": [
    "#config"
   ]
  },
  {
   "cell_type": "code",
   "execution_count": 25,
   "id": "1d3b48de-e6ca-4bf1-a20b-82e85530f298",
   "metadata": {},
   "outputs": [],
   "source": [
    "#import json\n",
    "#with open(\"config.json\", \"w\") as outfile:\n",
    "#   json.dump(config, outfile)"
   ]
  },
  {
   "cell_type": "code",
   "execution_count": 26,
   "id": "1359be63-fbd7-44b0-8841-c973ede15ace",
   "metadata": {},
   "outputs": [],
   "source": [
    "#m.save_to_html(file_name = 'CitiBike Bike Trips Aggregated.html', read_only = False, config = config)"
   ]
  }
 ],
 "metadata": {
  "kernelspec": {
   "display_name": "Python 3 (ipykernel)",
   "language": "python",
   "name": "python3"
  },
  "language_info": {
   "codemirror_mode": {
    "name": "ipython",
    "version": 3
   },
   "file_extension": ".py",
   "mimetype": "text/x-python",
   "name": "python",
   "nbconvert_exporter": "python",
   "pygments_lexer": "ipython3",
   "version": "3.12.7"
  }
 },
 "nbformat": 4,
 "nbformat_minor": 5
}
